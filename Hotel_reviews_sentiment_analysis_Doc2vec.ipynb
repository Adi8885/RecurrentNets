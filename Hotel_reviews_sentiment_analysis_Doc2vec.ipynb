{
  "nbformat": 4,
  "nbformat_minor": 0,
  "metadata": {
    "kernelspec": {
      "display_name": "Python 3",
      "language": "python",
      "name": "python3"
    },
    "language_info": {
      "codemirror_mode": {
        "name": "ipython",
        "version": 3
      },
      "file_extension": ".py",
      "mimetype": "text/x-python",
      "name": "python",
      "nbconvert_exporter": "python",
      "pygments_lexer": "ipython3",
      "version": "3.7.3"
    },
    "colab": {
      "name": "Hotel_reviews_sentiment_analysis_Doc2vec.ipynb",
      "provenance": [],
      "include_colab_link": true
    }
  },
  "cells": [
    {
      "cell_type": "markdown",
      "metadata": {
        "id": "view-in-github",
        "colab_type": "text"
      },
      "source": [
        "<a href=\"https://colab.research.google.com/github/Adi8885/RecurrentNets/blob/master/Hotel_reviews_sentiment_analysis_Doc2vec.ipynb\" target=\"_parent\"><img src=\"https://colab.research.google.com/assets/colab-badge.svg\" alt=\"Open In Colab\"/></a>"
      ]
    },
    {
      "cell_type": "code",
      "metadata": {
        "id": "T-_VRpokmB-v",
        "colab_type": "code",
        "colab": {
          "base_uri": "https://localhost:8080/",
          "height": 51
        },
        "outputId": "0bafb9a8-ed1c-4bee-d23c-12b5b34120ff"
      },
      "source": [
        "import time\n",
        "import os\n",
        "import pickle\n",
        "\n",
        "import pandas as pd\n",
        "import numpy as np\n",
        "import matplotlib.pyplot as plt\n",
        "import seaborn as sns\n",
        "\n",
        "import torch\n",
        "import torch.nn as nn\n",
        "import torch.nn.functional as F\n",
        "import torchvision.datasets as Dataset\n",
        "import torch.autograd as autograd\n",
        "from torch.utils.data import Dataset, DataLoader\n",
        "import torchvision\n",
        "\n",
        "\n",
        "import nltk\n",
        "nltk.download('punkt')\n",
        "from gensim.models import Word2Vec\n",
        "from nltk.corpus import stopwords\n",
        "from nltk.tokenize import word_tokenize\n",
        "from gensim.models.doc2vec import Doc2Vec, TaggedDocument\n",
        "\n",
        "from sklearn.model_selection import train_test_split\n",
        "from sklearn.utils import shuffle\n",
        "from sklearn.metrics import classification_report , accuracy_score , confusion_matrix\n",
        "\n",
        "%matplotlib inline"
      ],
      "execution_count": 9,
      "outputs": [
        {
          "output_type": "stream",
          "text": [
            "[nltk_data] Downloading package punkt to /root/nltk_data...\n",
            "[nltk_data]   Unzipping tokenizers/punkt.zip.\n"
          ],
          "name": "stdout"
        }
      ]
    },
    {
      "cell_type": "code",
      "metadata": {
        "id": "qZ7zT3Z4mB_Y",
        "colab_type": "code",
        "colab": {
          "base_uri": "https://localhost:8080/",
          "height": 204
        },
        "outputId": "a68dd2a0-7a7a-4387-a8ea-cb1698ab4990"
      },
      "source": [
        "data = pd.read_csv('./Hotel_Reviews_small.csv' , \n",
        "                   low_memory = False , \n",
        "                   compression = 'gzip',\n",
        "                  nrows = 100000)\n",
        "data.head()"
      ],
      "execution_count": 10,
      "outputs": [
        {
          "output_type": "execute_result",
          "data": {
            "text/html": [
              "<div>\n",
              "<style scoped>\n",
              "    .dataframe tbody tr th:only-of-type {\n",
              "        vertical-align: middle;\n",
              "    }\n",
              "\n",
              "    .dataframe tbody tr th {\n",
              "        vertical-align: top;\n",
              "    }\n",
              "\n",
              "    .dataframe thead th {\n",
              "        text-align: right;\n",
              "    }\n",
              "</style>\n",
              "<table border=\"1\" class=\"dataframe\">\n",
              "  <thead>\n",
              "    <tr style=\"text-align: right;\">\n",
              "      <th></th>\n",
              "      <th>review</th>\n",
              "      <th>liked</th>\n",
              "    </tr>\n",
              "  </thead>\n",
              "  <tbody>\n",
              "    <tr>\n",
              "      <th>0</th>\n",
              "      <td>Good location near metro station The room was...</td>\n",
              "      <td>1</td>\n",
              "    </tr>\n",
              "    <tr>\n",
              "      <th>1</th>\n",
              "      <td>We did not know it was 2 single beds never se...</td>\n",
              "      <td>0</td>\n",
              "    </tr>\n",
              "    <tr>\n",
              "      <th>2</th>\n",
              "      <td>The porters where very polite and helpful</td>\n",
              "      <td>1</td>\n",
              "    </tr>\n",
              "    <tr>\n",
              "      <th>3</th>\n",
              "      <td>Wifi was not working properly and no mobile s...</td>\n",
              "      <td>0</td>\n",
              "    </tr>\n",
              "    <tr>\n",
              "      <th>4</th>\n",
              "      <td>The WC Bath had not fan to let air out so som...</td>\n",
              "      <td>0</td>\n",
              "    </tr>\n",
              "  </tbody>\n",
              "</table>\n",
              "</div>"
            ],
            "text/plain": [
              "                                              review  liked\n",
              "0   Good location near metro station The room was...      1\n",
              "1   We did not know it was 2 single beds never se...      0\n",
              "2         The porters where very polite and helpful       1\n",
              "3   Wifi was not working properly and no mobile s...      0\n",
              "4   The WC Bath had not fan to let air out so som...      0"
            ]
          },
          "metadata": {
            "tags": []
          },
          "execution_count": 10
        }
      ]
    },
    {
      "cell_type": "code",
      "metadata": {
        "id": "1xNvm5CJmB_c",
        "colab_type": "code",
        "colab": {
          "base_uri": "https://localhost:8080/",
          "height": 221
        },
        "outputId": "2d445017-147e-48a8-ed2c-d83c14d73da8"
      },
      "source": [
        "#remove html Tags\n",
        "\n",
        "st_time = time.time()\n",
        "data['review'] = data['review'].str.lower()\n",
        "data['review'] = data['review'].str.replace('<br','')\n",
        "data['review'] = data['review'].str.replace('/>','')\n",
        "data['review'] = data['review'].str.replace('[^\\w\\s]','')\n",
        "\n",
        "#remove html Tags\n",
        "special_chars = \"\"\"!\"#$%&'()*+,-./:;<=>?@[\\]^_`{|}~\"\"\"\n",
        "data['review'] = data['review'].apply(lambda x: \" \".join(x for x in x.split() if x not in special_chars))\n",
        "\n",
        "#remove numbers\n",
        "numbers = '0123456789'\n",
        "data['review'] = data['review'].apply(lambda x: \" \".join(x for x in x.split() if x not in numbers))\n",
        "\n",
        "\n",
        "#Remove stopwords\n",
        "#stop = stopwords.words('english')\n",
        "#data['review'] = data['review'].apply(lambda x: \" \".join(x for x in x.split() if x not in stop))\n",
        "\n",
        "print(' time taken to process : {} seconds'.format(round(time.time() - st_time ,2)))\n",
        "data.head()"
      ],
      "execution_count": 11,
      "outputs": [
        {
          "output_type": "stream",
          "text": [
            " time taken to process : 1.16 seconds\n"
          ],
          "name": "stdout"
        },
        {
          "output_type": "execute_result",
          "data": {
            "text/html": [
              "<div>\n",
              "<style scoped>\n",
              "    .dataframe tbody tr th:only-of-type {\n",
              "        vertical-align: middle;\n",
              "    }\n",
              "\n",
              "    .dataframe tbody tr th {\n",
              "        vertical-align: top;\n",
              "    }\n",
              "\n",
              "    .dataframe thead th {\n",
              "        text-align: right;\n",
              "    }\n",
              "</style>\n",
              "<table border=\"1\" class=\"dataframe\">\n",
              "  <thead>\n",
              "    <tr style=\"text-align: right;\">\n",
              "      <th></th>\n",
              "      <th>review</th>\n",
              "      <th>liked</th>\n",
              "    </tr>\n",
              "  </thead>\n",
              "  <tbody>\n",
              "    <tr>\n",
              "      <th>0</th>\n",
              "      <td>good location near metro station the room was ...</td>\n",
              "      <td>1</td>\n",
              "    </tr>\n",
              "    <tr>\n",
              "      <th>1</th>\n",
              "      <td>we did not know it was single beds never seen ...</td>\n",
              "      <td>0</td>\n",
              "    </tr>\n",
              "    <tr>\n",
              "      <th>2</th>\n",
              "      <td>the porters where very polite and helpful</td>\n",
              "      <td>1</td>\n",
              "    </tr>\n",
              "    <tr>\n",
              "      <th>3</th>\n",
              "      <td>wifi was not working properly and no mobile si...</td>\n",
              "      <td>0</td>\n",
              "    </tr>\n",
              "    <tr>\n",
              "      <th>4</th>\n",
              "      <td>the wc bath had not fan to let air out so some...</td>\n",
              "      <td>0</td>\n",
              "    </tr>\n",
              "  </tbody>\n",
              "</table>\n",
              "</div>"
            ],
            "text/plain": [
              "                                              review  liked\n",
              "0  good location near metro station the room was ...      1\n",
              "1  we did not know it was single beds never seen ...      0\n",
              "2          the porters where very polite and helpful      1\n",
              "3  wifi was not working properly and no mobile si...      0\n",
              "4  the wc bath had not fan to let air out so some...      0"
            ]
          },
          "metadata": {
            "tags": []
          },
          "execution_count": 11
        }
      ]
    },
    {
      "cell_type": "code",
      "metadata": {
        "id": "Q-cc1VkQmB_g",
        "colab_type": "code",
        "colab": {
          "base_uri": "https://localhost:8080/",
          "height": 204
        },
        "outputId": "15a1d838-6787-423d-a627-232d1498a170"
      },
      "source": [
        "data['review_length'] = data['review'].apply(lambda x: len(str(x).split(\" \")))\n",
        "data.head()"
      ],
      "execution_count": 12,
      "outputs": [
        {
          "output_type": "execute_result",
          "data": {
            "text/html": [
              "<div>\n",
              "<style scoped>\n",
              "    .dataframe tbody tr th:only-of-type {\n",
              "        vertical-align: middle;\n",
              "    }\n",
              "\n",
              "    .dataframe tbody tr th {\n",
              "        vertical-align: top;\n",
              "    }\n",
              "\n",
              "    .dataframe thead th {\n",
              "        text-align: right;\n",
              "    }\n",
              "</style>\n",
              "<table border=\"1\" class=\"dataframe\">\n",
              "  <thead>\n",
              "    <tr style=\"text-align: right;\">\n",
              "      <th></th>\n",
              "      <th>review</th>\n",
              "      <th>liked</th>\n",
              "      <th>review_length</th>\n",
              "    </tr>\n",
              "  </thead>\n",
              "  <tbody>\n",
              "    <tr>\n",
              "      <th>0</th>\n",
              "      <td>good location near metro station the room was ...</td>\n",
              "      <td>1</td>\n",
              "      <td>42</td>\n",
              "    </tr>\n",
              "    <tr>\n",
              "      <th>1</th>\n",
              "      <td>we did not know it was single beds never seen ...</td>\n",
              "      <td>0</td>\n",
              "      <td>12</td>\n",
              "    </tr>\n",
              "    <tr>\n",
              "      <th>2</th>\n",
              "      <td>the porters where very polite and helpful</td>\n",
              "      <td>1</td>\n",
              "      <td>7</td>\n",
              "    </tr>\n",
              "    <tr>\n",
              "      <th>3</th>\n",
              "      <td>wifi was not working properly and no mobile si...</td>\n",
              "      <td>0</td>\n",
              "      <td>43</td>\n",
              "    </tr>\n",
              "    <tr>\n",
              "      <th>4</th>\n",
              "      <td>the wc bath had not fan to let air out so some...</td>\n",
              "      <td>0</td>\n",
              "      <td>37</td>\n",
              "    </tr>\n",
              "  </tbody>\n",
              "</table>\n",
              "</div>"
            ],
            "text/plain": [
              "                                              review  liked  review_length\n",
              "0  good location near metro station the room was ...      1             42\n",
              "1  we did not know it was single beds never seen ...      0             12\n",
              "2          the porters where very polite and helpful      1              7\n",
              "3  wifi was not working properly and no mobile si...      0             43\n",
              "4  the wc bath had not fan to let air out so some...      0             37"
            ]
          },
          "metadata": {
            "tags": []
          },
          "execution_count": 12
        }
      ]
    },
    {
      "cell_type": "code",
      "metadata": {
        "id": "pX7eYOKImB_j",
        "colab_type": "code",
        "colab": {
          "base_uri": "https://localhost:8080/",
          "height": 85
        },
        "outputId": "781ebf42-afa1-4984-86f8-6969e4884c84"
      },
      "source": [
        "print('min sentence Length : {}'.format(data.review_length.min()))\n",
        "print('max sentence Length : {}'.format(data.review_length.max()))\n",
        "print('mean sentence Length : {}'.format(data.review_length.mean()))\n",
        "print('median sentence Length : {}'.format(data.review_length.median()))"
      ],
      "execution_count": 13,
      "outputs": [
        {
          "output_type": "stream",
          "text": [
            "min sentence Length : 1\n",
            "max sentence Length : 390\n",
            "mean sentence Length : 19.81121\n",
            "median sentence Length : 12.0\n"
          ],
          "name": "stdout"
        }
      ]
    },
    {
      "cell_type": "code",
      "metadata": {
        "id": "BAUUj2v5mB_m",
        "colab_type": "code",
        "colab": {
          "base_uri": "https://localhost:8080/",
          "height": 51
        },
        "outputId": "1f9a85e4-4740-47af-bffe-199772da0131"
      },
      "source": [
        "st_time = time.time()\n",
        "sentence_list = []\n",
        "for i in data['review']:\n",
        "    sentence_list.append(i)\n",
        "print('sentence corpus : {}'.format(len(sentence_list)))\n",
        "print('time taken to process : {} seconds'.format(round(time.time() - st_time ,2)))"
      ],
      "execution_count": 14,
      "outputs": [
        {
          "output_type": "stream",
          "text": [
            "sentence corpus : 100000\n",
            "time taken to process : 0.03 seconds\n"
          ],
          "name": "stdout"
        }
      ]
    },
    {
      "cell_type": "code",
      "metadata": {
        "id": "hgfrg5srmB_p",
        "colab_type": "code",
        "colab": {
          "base_uri": "https://localhost:8080/",
          "height": 34
        },
        "outputId": "254ce269-6442-476b-ab3d-375e2787cd5a"
      },
      "source": [
        "st_time = time.time()\n",
        "tagged_data = [TaggedDocument(words=word_tokenize(_d.lower()), tags=[str(i)]) for i, _d in enumerate(sentence_list)]\n",
        "print('time taken to get tagged data : {} seconds'.format(round(time.time() - st_time ,2)))"
      ],
      "execution_count": 15,
      "outputs": [
        {
          "output_type": "stream",
          "text": [
            "time taken to get tagged data : 13.06 seconds\n"
          ],
          "name": "stdout"
        }
      ]
    },
    {
      "cell_type": "code",
      "metadata": {
        "id": "Pj2pPWIDmB_s",
        "colab_type": "code",
        "colab": {
          "base_uri": "https://localhost:8080/",
          "height": 34
        },
        "outputId": "affc5f1a-78a8-4da3-d0e2-107c23b298ab"
      },
      "source": [
        "max_epochs = 1\n",
        "vec_size = 256\n",
        "alpha = 0.025\n",
        "workers = os.cpu_count()\n",
        "\n",
        "model = Doc2Vec(vector_size=vec_size,\n",
        "                alpha=alpha, \n",
        "                min_alpha=0.0025,\n",
        "                min_count=1,\n",
        "                dm =1,\n",
        "                workers = workers)\n",
        "st_time = time.time() \n",
        "model.build_vocab(tagged_data)\n",
        "print('time taken to build vocab : {} seconds'.format(round(time.time() - st_time ,2)))"
      ],
      "execution_count": 16,
      "outputs": [
        {
          "output_type": "stream",
          "text": [
            "time taken to build vocab : 24.01 seconds\n"
          ],
          "name": "stdout"
        }
      ]
    },
    {
      "cell_type": "code",
      "metadata": {
        "id": "UBPqa3lYmB_v",
        "colab_type": "code",
        "colab": {
          "base_uri": "https://localhost:8080/",
          "height": 105
        },
        "outputId": "1dff7ef6-e66c-4068-daa1-db399459ebd7"
      },
      "source": [
        "print_every = 1\n",
        "for epoch in range(max_epochs):\n",
        "    st_time = time.time() \n",
        "\n",
        "    model.train(tagged_data,\n",
        "                total_examples=model.corpus_count,\n",
        "                epochs=model.epochs)\n",
        "    \n",
        "    # decrease the learning rate\n",
        "    model.alpha -= 0.002\n",
        "    # fix the learning rate, no decay\n",
        "    model.min_alpha = model.alpha\n",
        "    \n",
        "    if epoch % print_every == 0 :\n",
        "        print('iteration {} in {} seconds'.format(epoch , round(time.time() - st_time , 2)))\n",
        "\n",
        "model.save(\"doc2vec.model\")\n",
        "print(\"Model Saved\")"
      ],
      "execution_count": 17,
      "outputs": [
        {
          "output_type": "stream",
          "text": [
            "iteration 0 in 45.6 seconds\n"
          ],
          "name": "stdout"
        },
        {
          "output_type": "stream",
          "text": [
            "/usr/local/lib/python3.6/dist-packages/smart_open/smart_open_lib.py:410: UserWarning: This function is deprecated, use smart_open.open instead. See the migration notes for details: https://github.com/RaRe-Technologies/smart_open/blob/master/README.rst#migrating-to-the-new-open-function\n",
            "  'See the migration notes for details: %s' % _MIGRATION_NOTES_URL\n"
          ],
          "name": "stderr"
        },
        {
          "output_type": "stream",
          "text": [
            "Model Saved\n"
          ],
          "name": "stdout"
        }
      ]
    },
    {
      "cell_type": "code",
      "metadata": {
        "id": "BMO2-BadmB_y",
        "colab_type": "code",
        "colab": {
          "base_uri": "https://localhost:8080/",
          "height": 34
        },
        "outputId": "a0f0d7a5-6cee-4439-cecc-c3f1e1cba46b"
      },
      "source": [
        "total_records = data.shape[0]\n",
        "embeddings_matrix = np.zeros((total_records , vec_size))\n",
        "embeddings_matrix.shape"
      ],
      "execution_count": 18,
      "outputs": [
        {
          "output_type": "execute_result",
          "data": {
            "text/plain": [
              "(100000, 256)"
            ]
          },
          "metadata": {
            "tags": []
          },
          "execution_count": 18
        }
      ]
    },
    {
      "cell_type": "code",
      "metadata": {
        "id": "C91WknZomB_1",
        "colab_type": "code",
        "colab": {
          "base_uri": "https://localhost:8080/",
          "height": 34
        },
        "outputId": "590cc27f-f26e-4e42-a437-080c61f3c5c6"
      },
      "source": [
        "Y = data.liked.values\n",
        "Y.shape"
      ],
      "execution_count": 19,
      "outputs": [
        {
          "output_type": "execute_result",
          "data": {
            "text/plain": [
              "(100000,)"
            ]
          },
          "metadata": {
            "tags": []
          },
          "execution_count": 19
        }
      ]
    },
    {
      "cell_type": "code",
      "metadata": {
        "id": "ifO1W6qqmB_4",
        "colab_type": "code",
        "colab": {
          "base_uri": "https://localhost:8080/",
          "height": 187
        },
        "outputId": "f2326edc-fb4d-4347-f537-712828d95d9e"
      },
      "source": [
        "print_every = 10000\n",
        "ctr = 0\n",
        "st_time = time.time()\n",
        "for idx in data.index :\n",
        "    text = data.loc[idx].review.split(' ')\n",
        "    vector = model.infer_vector(text)\n",
        "    embeddings_matrix[idx] += vector\n",
        "    ctr+=1\n",
        "    if ctr % print_every == 0 :\n",
        "        print('records done : {}/{} \\t time : {}'.format(ctr , total_records , round(time.time() - st_time ,2)))\n",
        "        st_time = time.time()\n",
        "\n",
        "np.save(arr = embeddings_matrix ,  file = 'embeddings_matrix' , allow_pickle = True)"
      ],
      "execution_count": 20,
      "outputs": [
        {
          "output_type": "stream",
          "text": [
            "records done : 10000/100000 \t time : 9.45\n",
            "records done : 20000/100000 \t time : 9.39\n",
            "records done : 30000/100000 \t time : 9.23\n",
            "records done : 40000/100000 \t time : 9.08\n",
            "records done : 50000/100000 \t time : 9.24\n",
            "records done : 60000/100000 \t time : 9.21\n",
            "records done : 70000/100000 \t time : 9.28\n",
            "records done : 80000/100000 \t time : 9.33\n",
            "records done : 90000/100000 \t time : 9.31\n",
            "records done : 100000/100000 \t time : 9.24\n"
          ],
          "name": "stdout"
        }
      ]
    },
    {
      "cell_type": "code",
      "metadata": {
        "id": "E6Lva3NrmB_7",
        "colab_type": "code",
        "colab": {
          "base_uri": "https://localhost:8080/",
          "height": 68
        },
        "outputId": "8eb88c2b-ac01-45d6-f346-089ace071971"
      },
      "source": [
        "total_records = embeddings_matrix.shape[0]\n",
        "train_percent = 0.9\n",
        "val_percent = 0.05\n",
        "test_percent = (1 - (train_percent + val_percent))\n",
        "\n",
        "train_idx = int(train_percent * total_records)\n",
        "test_idx = int(test_percent * total_records)\n",
        "val_idx = int(val_percent * total_records)\n",
        "\n",
        "x_train = embeddings_matrix[0 : train_idx]\n",
        "y_train = Y[0 : train_idx]\n",
        "print( ' x_train : {}  y_train : {}'.format(x_train.shape , y_train.shape))\n",
        "\n",
        "x_val = embeddings_matrix[ train_idx : (train_idx + val_idx)]\n",
        "y_val = Y[ train_idx : (train_idx + val_idx)]\n",
        "print( ' x_val : {}  y_val : {}'.format(x_val.shape , y_val.shape))\n",
        "\n",
        "x_test = embeddings_matrix[(train_idx + val_idx) : ]\n",
        "y_test = Y[(train_idx + val_idx) : ]\n",
        "print( ' x_test : {}  y_test : {}'.format(x_test.shape , y_test.shape))"
      ],
      "execution_count": 21,
      "outputs": [
        {
          "output_type": "stream",
          "text": [
            " x_train : (90000, 256)  y_train : (90000,)\n",
            " x_val : (5000, 256)  y_val : (5000,)\n",
            " x_test : (5000, 256)  y_test : (5000,)\n"
          ],
          "name": "stdout"
        }
      ]
    },
    {
      "cell_type": "code",
      "metadata": {
        "id": "MfOH1Q1kmB_9",
        "colab_type": "code",
        "colab": {}
      },
      "source": [
        "batch_size = 100\n",
        "\n",
        "x_train = torch.tensor(x_train)\n",
        "y_train = torch.tensor(y_train)\n",
        "train_dataset = torch.utils.data.TensorDataset(x_train ,y_train)\n",
        "train_dataloader = DataLoader(train_dataset, batch_size=batch_size, shuffle=True, num_workers=2)\n",
        "\n",
        "x_val = torch.tensor(x_val)\n",
        "y_val = torch.tensor(y_val)\n",
        "val_dataset = torch.utils.data.TensorDataset(x_val ,y_val)\n",
        "val_dataloader = DataLoader(val_dataset, batch_size=batch_size, shuffle=True, num_workers=2)\n",
        "\n",
        "x_test = torch.tensor(x_test)\n",
        "y_test = torch.tensor(y_test)\n",
        "test_dataset = torch.utils.data.TensorDataset(x_test ,y_test)\n",
        "test_dataloader = DataLoader(test_dataset, batch_size=batch_size, shuffle=True, num_workers=2)"
      ],
      "execution_count": 0,
      "outputs": []
    },
    {
      "cell_type": "code",
      "metadata": {
        "id": "krB5xAU6mCAB",
        "colab_type": "code",
        "colab": {}
      },
      "source": [
        "torch.save(val_dataloader, 'val_dataset.dataloader')\n",
        "torch.save(test_dataloader, 'test_dataset.dataloader')\n",
        "torch.save(train_dataloader, 'train_dataset.dataloader')"
      ],
      "execution_count": 0,
      "outputs": []
    },
    {
      "cell_type": "code",
      "metadata": {
        "id": "qfjQCK0MmCAD",
        "colab_type": "code",
        "colab": {
          "base_uri": "https://localhost:8080/",
          "height": 34
        },
        "outputId": "15e883e1-00f0-4b43-eff1-72c52cc49498"
      },
      "source": [
        "if torch.cuda.is_available():\n",
        "    device = torch.device(\"cuda\")\n",
        "    print('CUDA available, training on GPU')\n",
        "else :\n",
        "    device = torch.device(\"cpu\")\n",
        "    print('cuda NOT available, training on CPU') \n",
        "    \n",
        "#device = torch.device(\"cpu\")"
      ],
      "execution_count": 24,
      "outputs": [
        {
          "output_type": "stream",
          "text": [
            "cuda NOT available, training on CPU\n"
          ],
          "name": "stdout"
        }
      ]
    },
    {
      "cell_type": "code",
      "metadata": {
        "id": "yJ5XO4ZtmCAG",
        "colab_type": "code",
        "colab": {
          "base_uri": "https://localhost:8080/",
          "height": 136
        },
        "outputId": "4953b285-9c52-45a3-de67-dd6ebf327bc6"
      },
      "source": [
        "input_size = vec_size\n",
        "hidden_size = vec_size\n",
        "batch_size = batch_size\n",
        "drop_out_probability = 0.25\n",
        "\n",
        "output_size = 2\n",
        "\n",
        "\n",
        "class NN_Classifier(nn.Module):\n",
        "    def __init__(self , input_size , hidden_size , output_size):\n",
        "        super(NN_Classifier ,self).__init__()\n",
        "        \n",
        "        self.input_size = input_size\n",
        "        self.hidden_size = hidden_size\n",
        "        self.output_size = output_size\n",
        "        \n",
        "        #Input sequence of embedded word vectors\n",
        "        \n",
        "        # Inputs to hidden layer linear transformation\n",
        "        self.fc1 = nn.Linear(in_features = input_size , out_features = hidden_size)\n",
        "        self.fc2 = nn.Linear(in_features = hidden_size , out_features = hidden_size)\n",
        "        \n",
        "        #Droput layer before output\n",
        "        self.dropout1 = nn.Dropout(p = drop_out_probability)\n",
        "        self.dropout2 = nn.Dropout(p = drop_out_probability)\n",
        "        \n",
        "        # Output layer, 10 units - one for each digit\n",
        "        self.out = nn.Linear(in_features = hidden_size , out_features = output_size)\n",
        "        \n",
        "    def forward(self,x):\n",
        "        \n",
        "        x = self.fc1(x)\n",
        "        x = F.relu(x)\n",
        "        \n",
        "        #Dropout layer\n",
        "        x = self.dropout1(x)\n",
        "        \n",
        "        #2nd hidden layer\n",
        "        x = self.fc2(x)\n",
        "        x = F.relu(x)\n",
        "        \n",
        "        #Droupout Layer\n",
        "        #x = self.dropout2(x)\n",
        "        \n",
        "        #Output layer\n",
        "        x = self.out(x)\n",
        "        \n",
        "        return x\n",
        "    \n",
        "model = NN_Classifier(input_size = input_size \n",
        "                            , hidden_size = hidden_size\n",
        "                            , output_size = output_size )\n",
        "model.double()"
      ],
      "execution_count": 25,
      "outputs": [
        {
          "output_type": "execute_result",
          "data": {
            "text/plain": [
              "NN_Classifier(\n",
              "  (fc1): Linear(in_features=256, out_features=256, bias=True)\n",
              "  (fc2): Linear(in_features=256, out_features=256, bias=True)\n",
              "  (dropout1): Dropout(p=0.25, inplace=False)\n",
              "  (dropout2): Dropout(p=0.25, inplace=False)\n",
              "  (out): Linear(in_features=256, out_features=2, bias=True)\n",
              ")"
            ]
          },
          "metadata": {
            "tags": []
          },
          "execution_count": 25
        }
      ]
    },
    {
      "cell_type": "code",
      "metadata": {
        "id": "OWaG_XbgmCAI",
        "colab_type": "code",
        "colab": {
          "base_uri": "https://localhost:8080/",
          "height": 680
        },
        "outputId": "391086f5-cb65-4a35-fa1d-aded54c40919"
      },
      "source": [
        "epochs = 10\n",
        "loss_fn = F.cross_entropy\n",
        "\n",
        "learning_rate = 0.001\n",
        "\n",
        "optimizer = torch.optim.Adam(model.parameters(), lr = learning_rate)\n",
        "print_every = 1000\n",
        "model.to(device)\n",
        "\n",
        "\n",
        "# to track the average training loss per epoch as the model trains\n",
        "avg_train_losses = []\n",
        "# to track the average validation loss per epoch as the model trains\n",
        "avg_valid_losses = [] \n",
        "patience_ctr = 0\n",
        "patience = 2\n",
        "\n",
        "\n",
        "st_time = time.time()\n",
        "    \n",
        "for epoch in range(0,epochs):\n",
        "    \n",
        "    # to track the training loss as the model trains\n",
        "    train_losses = []\n",
        "    # to track the validation loss as the model trains\n",
        "    valid_losses = []\n",
        "\n",
        "    batch = 0\n",
        "    #loss = 0\n",
        "    st_time = time.time()\n",
        "    model.train()\n",
        "    for x, y in train_dataloader :\n",
        "        x = x.to(device)\n",
        "        y = y.to(device)\n",
        "        \n",
        "        optimizer.zero_grad()\n",
        "        y_pred = model(x)\n",
        "        \n",
        "        #y_pred = y_pred.unsqueeze(0)\n",
        "        loss = loss_fn(y_pred , y)\n",
        "\n",
        "        loss.backward()\n",
        "        optimizer.step()\n",
        "        \n",
        "        train_losses.append(loss.item())\n",
        "        \n",
        "        if (batch % print_every == 0):\n",
        "            print('epoch: {}/{}\\tbatch: {}/{}\\ttrain loss : {}\\ttime : {} secs '.format(epoch, \n",
        "                                                                                       epochs , \n",
        "                                                                                       batch,\n",
        "                                                                                       len(train_dataloader) , \n",
        "                                                                                       loss.item() , \n",
        "                                                                                       round(time.time() - st_time , 2)))\n",
        "            \n",
        "        batch +=1\n",
        "\n",
        "    #Calculate Validation loss\n",
        "    val_acc = 0\n",
        "    model = model.eval()\n",
        "    for x_v, y_v in val_dataloader :\n",
        "        x_v = x_v.to(device)\n",
        "        y_v = y_v.to(device)\n",
        "        \n",
        "        y_pred = model(x_v)\n",
        "        loss = loss_fn(y_pred , y_v)\n",
        "        \n",
        "        valid_losses.append(loss.item())\n",
        "    \n",
        "    # calculate average loss over an epoch\n",
        "    train_loss = np.average(train_losses)\n",
        "    valid_loss = np.average(valid_losses)\n",
        "    avg_train_losses.append(train_loss)\n",
        "    avg_valid_losses.append(valid_loss)\n",
        "\n",
        "    #Early stopping\n",
        "    if valid_loss > train_loss:\n",
        "        patience_ctr +=1\n",
        "        print('patience_ctr : {}'.format(patience_ctr))\n",
        "        if patience_ctr >= patience:\n",
        "            print('early stoppping since valid_loss > train_loss')\n",
        "            break\n",
        "    else :\n",
        "        patience_ctr = 0\n",
        "    \n",
        "    epoch_len = len(str(epochs))\n",
        "    print('\\nepoch : {}/{}\\t train_loss :{}\\t validation loss : {}\\n'.format(epoch , \n",
        "                                                                           epochs, \n",
        "                                                                           train_loss , \n",
        "                                                                           valid_loss))\n",
        "    \n",
        "            \n",
        "    print('epoch : {}/{} \\t train loss : {} \\t time required : {} secs'.format(epoch, \n",
        "                                                                          epochs, \n",
        "                                                                          loss.item(),\n",
        "                                                                          round(time.time() - st_time , 2)))"
      ],
      "execution_count": 26,
      "outputs": [
        {
          "output_type": "stream",
          "text": [
            "epoch: 0/10\tbatch: 0/900\ttrain loss : 0.7004441205902723\ttime : 0.25 secs \n",
            "\n",
            "epoch : 0/10\t train_loss :0.4309041326690528\t validation loss : 0.3699398547117967\n",
            "\n",
            "epoch : 0/10 \t train loss : 0.3233923727693297 \t time required : 6.36 secs\n",
            "epoch: 1/10\tbatch: 0/900\ttrain loss : 0.30278272362832737\ttime : 0.06 secs \n",
            "\n",
            "epoch : 1/10\t train_loss :0.3552090351382857\t validation loss : 0.3210260842588772\n",
            "\n",
            "epoch : 1/10 \t train loss : 0.3039355855929297 \t time required : 6.22 secs\n",
            "epoch: 2/10\tbatch: 0/900\ttrain loss : 0.34577496010152964\ttime : 0.06 secs \n",
            "\n",
            "epoch : 2/10\t train_loss :0.322039609337288\t validation loss : 0.3060354025728915\n",
            "\n",
            "epoch : 2/10 \t train loss : 0.3200921193880709 \t time required : 6.2 secs\n",
            "epoch: 3/10\tbatch: 0/900\ttrain loss : 0.3149237271556376\ttime : 0.06 secs \n",
            "\n",
            "epoch : 3/10\t train_loss :0.3069408553655567\t validation loss : 0.29201685743102673\n",
            "\n",
            "epoch : 3/10 \t train loss : 0.27917752475916485 \t time required : 6.22 secs\n",
            "epoch: 4/10\tbatch: 0/900\ttrain loss : 0.3902377184222099\ttime : 0.06 secs \n",
            "\n",
            "epoch : 4/10\t train_loss :0.2968925378227787\t validation loss : 0.29031453922357703\n",
            "\n",
            "epoch : 4/10 \t train loss : 0.29269266196655214 \t time required : 6.15 secs\n",
            "epoch: 5/10\tbatch: 0/900\ttrain loss : 0.2452318175530545\ttime : 0.06 secs \n",
            "\n",
            "epoch : 5/10\t train_loss :0.2871755774194215\t validation loss : 0.2844418948299559\n",
            "\n",
            "epoch : 5/10 \t train loss : 0.2826154076499381 \t time required : 6.21 secs\n",
            "epoch: 6/10\tbatch: 0/900\ttrain loss : 0.29811411368951846\ttime : 0.06 secs \n",
            "patience_ctr : 1\n",
            "\n",
            "epoch : 6/10\t train_loss :0.28126074760820996\t validation loss : 0.2844556824739734\n",
            "\n",
            "epoch : 6/10 \t train loss : 0.23721495953559732 \t time required : 6.28 secs\n",
            "epoch: 7/10\tbatch: 0/900\ttrain loss : 0.2702933698859821\ttime : 0.06 secs \n",
            "patience_ctr : 2\n",
            "early stoppping since valid_loss > train_loss\n"
          ],
          "name": "stdout"
        }
      ]
    },
    {
      "cell_type": "code",
      "metadata": {
        "id": "xLd1h_l9mCAL",
        "colab_type": "code",
        "colab": {
          "base_uri": "https://localhost:8080/",
          "height": 238
        },
        "outputId": "af100a04-22aa-4b02-f9e8-5670ac0d31d8"
      },
      "source": [
        "st_time = time.time()\n",
        "ctr = 0\n",
        "print_every = 5\n",
        "model = model.eval()\n",
        "for x_v, y_v in test_dataloader :\n",
        "    x_v = x_v.to(device)\n",
        "    #y_v = y_v.to(device)\n",
        "   \n",
        "    op = model(x_v)\n",
        "    op = torch.argmax(F.softmax(op), dim = 1)\n",
        "    if ctr == 0:\n",
        "        y_pred = op\n",
        "        y_actual = y_v\n",
        "    else:\n",
        "        y_pred = torch.cat((y_pred , op))\n",
        "        y_actual = torch.cat((y_actual , y_v))\n",
        "   \n",
        "    ctr += 1\n",
        "   \n",
        "    if ctr % print_every == 0:\n",
        "        print(ctr)\n",
        "print('time taken for prediction :{} seconds'.format(time.time() - st_time ))"
      ],
      "execution_count": 27,
      "outputs": [
        {
          "output_type": "stream",
          "text": [
            "5\n",
            "10\n",
            "15\n",
            "20\n",
            "25\n",
            "30\n",
            "35\n",
            "40\n",
            "45\n",
            "50\n",
            "time taken for prediction :0.21219587326049805 seconds\n"
          ],
          "name": "stdout"
        },
        {
          "output_type": "stream",
          "text": [
            "/usr/local/lib/python3.6/dist-packages/ipykernel_launcher.py:10: UserWarning: Implicit dimension choice for softmax has been deprecated. Change the call to include dim=X as an argument.\n",
            "  # Remove the CWD from sys.path while we load stuff.\n"
          ],
          "name": "stderr"
        }
      ]
    },
    {
      "cell_type": "code",
      "metadata": {
        "id": "mrwMq9n7mCAO",
        "colab_type": "code",
        "colab": {
          "base_uri": "https://localhost:8080/",
          "height": 462
        },
        "outputId": "77a5e585-fe14-4ffa-daa7-f90a1dd5194c"
      },
      "source": [
        "def my_classification_report(y_actual , y_predicted):\n",
        "    print(classification_report(y_actual, y_pred))\n",
        "    acc = accuracy_score(y_actual , y_predicted)\n",
        "    print('accuracy : {}'.format(acc))\n",
        "   \n",
        "    conf_mat=confusion_matrix(y_actual, y_pred)\n",
        "    #print(conf_mat)\n",
        "    #plt.figure(figsize=(20,20))\n",
        "    ax = plt.subplot()\n",
        "    sns.heatmap(conf_mat, annot=True, ax = ax); #annot=True to annotate cells\n",
        "\n",
        "    # labels, title and ticks\n",
        "    ax.set_xlabel('Predicted labels')\n",
        "    ax.set_ylabel('True labels')\n",
        "    ax.set_title('Confusion Matrix')\n",
        "    ax.xaxis.set_ticklabels(['1','0'])\n",
        "    ax.yaxis.set_ticklabels(['1','0'])\n",
        "    plt.xticks(rotation=90)\n",
        "    plt.yticks(rotation=0)\n",
        "    #plt.savefig('conf_matrix.png')\n",
        "    plt.show()\n",
        "\n",
        "y_actual = y_actual.cpu().detach().numpy()\n",
        "y_pred = y_pred.cpu().detach().numpy()\n",
        "my_classification_report(y_actual = y_actual , y_predicted = y_pred)"
      ],
      "execution_count": 28,
      "outputs": [
        {
          "output_type": "stream",
          "text": [
            "              precision    recall  f1-score   support\n",
            "\n",
            "           0       0.83      0.90      0.86      2168\n",
            "           1       0.91      0.85      0.88      2832\n",
            "\n",
            "    accuracy                           0.87      5000\n",
            "   macro avg       0.87      0.88      0.87      5000\n",
            "weighted avg       0.88      0.87      0.87      5000\n",
            "\n",
            "accuracy : 0.8728\n"
          ],
          "name": "stdout"
        },
        {
          "output_type": "display_data",
          "data": {
            "image/png": "[encoded data removed]",
            "text/plain": [
              "<Figure size 432x288 with 2 Axes>"
            ]
          },
          "metadata": {
            "tags": []
          }
        }
      ]
    },
    {
      "cell_type": "code",
      "metadata": {
        "id": "CBPPEshcmCAR",
        "colab_type": "code",
        "colab": {}
      },
      "source": [
        ""
      ],
      "execution_count": 0,
      "outputs": []
    },
    {
      "cell_type": "code",
      "metadata": {
        "id": "7mRkKs8RmCAV",
        "colab_type": "code",
        "colab": {}
      },
      "source": [
        ""
      ],
      "execution_count": 0,
      "outputs": []
    }
  ]
}