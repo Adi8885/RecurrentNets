{
 "cells": [
  {
   "cell_type": "code",
   "execution_count": 1,
   "metadata": {},
   "outputs": [],
   "source": [
    "#! pip install -U gensim"
   ]
  },
  {
   "cell_type": "code",
   "execution_count": 2,
   "metadata": {},
   "outputs": [],
   "source": [
    "import pandas as pd\n",
    "import numpy as np\n",
    "import torch\n",
    "import torch.nn as nn\n",
    "import torch.nn.functional as F\n",
    "import torchvision.datasets as Dataset\n",
    "import torch.autograd as autograd\n",
    "from torch.utils.data import Dataset, DataLoader\n",
    "import torchvision\n",
    "import matplotlib.pyplot as plt\n",
    "import nltk\n",
    "from gensim.models import Word2Vec\n",
    "from nltk.corpus import stopwords\n",
    "from nltk.tokenize import word_tokenize\n",
    "from gensim.models.doc2vec import Doc2Vec, TaggedDocument\n",
    "from sklearn.model_selection import train_test_split\n",
    "import time\n",
    "import os\n",
    "import pickle\n",
    "import zipfile\n",
    "from sklearn.utils import shuffle\n",
    "#from torchsample.callbacks import EarlyStopping"
   ]
  },
  {
   "cell_type": "code",
   "execution_count": 21,
   "metadata": {},
   "outputs": [],
   "source": [
    "\n",
    "#with zipfile.ZipFile(\"/Users/adityarane/Sequence network/515k-hotel-reviews-data-in-europe.zip\",\"r\") as zip_ref:\n",
    "#    zip_ref.extractall(\"/Users/adityarane/Sequence network/Hotel_Reviews.csv\")"
   ]
  },
  {
   "cell_type": "code",
   "execution_count": 22,
   "metadata": {},
   "outputs": [],
   "source": [
    "#nltk.download('stopwords')"
   ]
  },
  {
   "cell_type": "code",
   "execution_count": 3,
   "metadata": {},
   "outputs": [
    {
     "data": {
      "text/plain": [
       "'/home/adityarane/Sequence_network'"
      ]
     },
     "execution_count": 3,
     "metadata": {},
     "output_type": "execute_result"
    }
   ],
   "source": [
    "os.getcwd()"
   ]
  },
  {
   "cell_type": "code",
   "execution_count": 3,
   "metadata": {},
   "outputs": [
    {
     "name": "stdout",
     "output_type": "stream",
     "text": [
      "                                                   review  Liked\n",
      "123425   I loved the location Within walking distance ...      1\n",
      "342742                           No fuss value for money       1\n",
      "480524                                     Small Bathroom      0\n",
      "468533   Could not fault really Such friendly and welc...      1\n",
      "437053   We love everything about this hotel Located i...      1\n"
     ]
    }
   ],
   "source": [
    "#data = pd.read_csv('/home/adityarane/Sequence_network/Hotel_Reviews.csv',low_memory = False)\n",
    "data = pd.read_csv('/home/adityarane/Sequence_network/Hotel_Reviews_small.csv')\n",
    "data = data[['Review','Liked']]\n",
    "data.rename(columns={\"Review\": \"review\"}, inplace=True)\n",
    "#data = data[['Negative_Review','Positive_Review']]\n",
    "data = shuffle(data)\n",
    "print(data.head())"
   ]
  },
  {
   "cell_type": "code",
   "execution_count": 4,
   "metadata": {},
   "outputs": [
    {
     "data": {
      "text/plain": [
       "(867640, 2)"
      ]
     },
     "execution_count": 4,
     "metadata": {},
     "output_type": "execute_result"
    }
   ],
   "source": [
    "data.shape"
   ]
  },
  {
   "cell_type": "code",
   "execution_count": 26,
   "metadata": {},
   "outputs": [],
   "source": [
    "#Negative_Review_data = data.Negative_Review.copy()\n",
    "#Positive_Review_data = data.Positive_Review.copy()"
   ]
  },
  {
   "cell_type": "code",
   "execution_count": 27,
   "metadata": {},
   "outputs": [],
   "source": [
    "#Negative_Review_data = Negative_Review_data[Negative_Review_data!= 'No Negative']\n",
    "#Negative_Review_data = pd.DataFrame(Negative_Review_data)\n",
    "#Negative_Review_data['Liked'] = 0\n",
    "#Negative_Review_data.rename(columns={\"Negative_Review\": \"Review\"}, inplace=True)\n",
    "#Negative_Review_data.shape"
   ]
  },
  {
   "cell_type": "code",
   "execution_count": 28,
   "metadata": {},
   "outputs": [],
   "source": [
    "#Positive_Review_data = Positive_Review_data[Positive_Review_data!= 'No Positive']\n",
    "#Positive_Review_data = pd.DataFrame(Positive_Review_data)\n",
    "#Positive_Review_data['Liked'] = 1\n",
    "#Positive_Review_data.rename(columns={\"Positive_Review\": \"Review\"}, inplace=True)\n",
    "#Positive_Review_data.shape"
   ]
  },
  {
   "cell_type": "code",
   "execution_count": 29,
   "metadata": {},
   "outputs": [],
   "source": [
    "#data = Positive_Review_data.append(Negative_Review_data)\n",
    "#data.shape"
   ]
  },
  {
   "cell_type": "code",
   "execution_count": 30,
   "metadata": {},
   "outputs": [],
   "source": [
    "#data.to_csv('/home/adityarane/Sequence_network/Hotel_Reviews_small.csv')"
   ]
  },
  {
   "cell_type": "code",
   "execution_count": 5,
   "metadata": {},
   "outputs": [
    {
     "data": {
      "text/html": [
       "<div>\n",
       "<style scoped>\n",
       "    .dataframe tbody tr th:only-of-type {\n",
       "        vertical-align: middle;\n",
       "    }\n",
       "\n",
       "    .dataframe tbody tr th {\n",
       "        vertical-align: top;\n",
       "    }\n",
       "\n",
       "    .dataframe thead th {\n",
       "        text-align: right;\n",
       "    }\n",
       "</style>\n",
       "<table border=\"1\" class=\"dataframe\">\n",
       "  <thead>\n",
       "    <tr style=\"text-align: right;\">\n",
       "      <th></th>\n",
       "      <th>review</th>\n",
       "      <th>Liked</th>\n",
       "    </tr>\n",
       "  </thead>\n",
       "  <tbody>\n",
       "    <tr>\n",
       "      <th>123425</th>\n",
       "      <td>loved location within walking distance rail sy...</td>\n",
       "      <td>1</td>\n",
       "    </tr>\n",
       "    <tr>\n",
       "      <th>342742</th>\n",
       "      <td>fuss value money</td>\n",
       "      <td>1</td>\n",
       "    </tr>\n",
       "    <tr>\n",
       "      <th>480524</th>\n",
       "      <td>small bathroom</td>\n",
       "      <td>0</td>\n",
       "    </tr>\n",
       "    <tr>\n",
       "      <th>468533</th>\n",
       "      <td>could fault really friendly welcoming staff di...</td>\n",
       "      <td>1</td>\n",
       "    </tr>\n",
       "    <tr>\n",
       "      <th>437053</th>\n",
       "      <td>love everything hotel located heart city museu...</td>\n",
       "      <td>1</td>\n",
       "    </tr>\n",
       "  </tbody>\n",
       "</table>\n",
       "</div>"
      ],
      "text/plain": [
       "                                                   review  Liked\n",
       "123425  loved location within walking distance rail sy...      1\n",
       "342742                                   fuss value money      1\n",
       "480524                                     small bathroom      0\n",
       "468533  could fault really friendly welcoming staff di...      1\n",
       "437053  love everything hotel located heart city museu...      1"
      ]
     },
     "execution_count": 5,
     "metadata": {},
     "output_type": "execute_result"
    }
   ],
   "source": [
    "#remove html Tags\n",
    "data['review'] = data['review'].str.lower()\n",
    "data['review'] = data['review'].str.replace('<br','')\n",
    "data['review'] = data['review'].str.replace('/>','')\n",
    "data['review'] = data['review'].str.replace('[^\\w\\s]','')\n",
    "\n",
    "#remove html Tags\n",
    "special_chars = \"\"\"!\"#$%&'()*+,-./:;<=>?@[\\]^_`{|}~\"\"\"\n",
    "data['review'] = data['review'].apply(lambda x: \" \".join(x for x in x.split() if x not in special_chars))\n",
    "\n",
    "#remove numbers\n",
    "numbers = '0123456789'\n",
    "data['review'] = data['review'].apply(lambda x: \" \".join(x for x in x.split() if x not in numbers))\n",
    "\n",
    "\n",
    "#Remove stopwords\n",
    "stop = stopwords.words('english')\n",
    "data['review'] = data['review'].apply(lambda x: \" \".join(x for x in x.split() if x not in stop))\n",
    "\n",
    "data.head()"
   ]
  },
  {
   "cell_type": "code",
   "execution_count": 32,
   "metadata": {},
   "outputs": [],
   "source": [
    "#data['Liked'] = np.where(data.sentiment == 'positive' , 1 , 0)\n",
    "#data.head()"
   ]
  },
  {
   "cell_type": "code",
   "execution_count": 33,
   "metadata": {},
   "outputs": [],
   "source": [
    "#data.groupby('Liked')['sentiment'].count()"
   ]
  },
  {
   "cell_type": "code",
   "execution_count": 6,
   "metadata": {},
   "outputs": [
    {
     "data": {
      "text/html": [
       "<div>\n",
       "<style scoped>\n",
       "    .dataframe tbody tr th:only-of-type {\n",
       "        vertical-align: middle;\n",
       "    }\n",
       "\n",
       "    .dataframe tbody tr th {\n",
       "        vertical-align: top;\n",
       "    }\n",
       "\n",
       "    .dataframe thead th {\n",
       "        text-align: right;\n",
       "    }\n",
       "</style>\n",
       "<table border=\"1\" class=\"dataframe\">\n",
       "  <thead>\n",
       "    <tr style=\"text-align: right;\">\n",
       "      <th></th>\n",
       "      <th>review</th>\n",
       "      <th>Liked</th>\n",
       "      <th>review_length</th>\n",
       "    </tr>\n",
       "  </thead>\n",
       "  <tbody>\n",
       "    <tr>\n",
       "      <th>123425</th>\n",
       "      <td>loved location within walking distance rail sy...</td>\n",
       "      <td>1</td>\n",
       "      <td>14</td>\n",
       "    </tr>\n",
       "    <tr>\n",
       "      <th>342742</th>\n",
       "      <td>fuss value money</td>\n",
       "      <td>1</td>\n",
       "      <td>3</td>\n",
       "    </tr>\n",
       "    <tr>\n",
       "      <th>480524</th>\n",
       "      <td>small bathroom</td>\n",
       "      <td>0</td>\n",
       "      <td>2</td>\n",
       "    </tr>\n",
       "    <tr>\n",
       "      <th>468533</th>\n",
       "      <td>could fault really friendly welcoming staff di...</td>\n",
       "      <td>1</td>\n",
       "      <td>30</td>\n",
       "    </tr>\n",
       "    <tr>\n",
       "      <th>437053</th>\n",
       "      <td>love everything hotel located heart city museu...</td>\n",
       "      <td>1</td>\n",
       "      <td>34</td>\n",
       "    </tr>\n",
       "  </tbody>\n",
       "</table>\n",
       "</div>"
      ],
      "text/plain": [
       "                                                   review  Liked  \\\n",
       "123425  loved location within walking distance rail sy...      1   \n",
       "342742                                   fuss value money      1   \n",
       "480524                                     small bathroom      0   \n",
       "468533  could fault really friendly welcoming staff di...      1   \n",
       "437053  love everything hotel located heart city museu...      1   \n",
       "\n",
       "        review_length  \n",
       "123425             14  \n",
       "342742              3  \n",
       "480524              2  \n",
       "468533             30  \n",
       "437053             34  "
      ]
     },
     "execution_count": 6,
     "metadata": {},
     "output_type": "execute_result"
    }
   ],
   "source": [
    "data['review_length'] = data['review'].apply(lambda x: len(str(x).split(\" \")))\n",
    "data.head()"
   ]
  },
  {
   "cell_type": "code",
   "execution_count": 7,
   "metadata": {},
   "outputs": [
    {
     "name": "stdout",
     "output_type": "stream",
     "text": [
      "min sentence Length : 1\n",
      "max sentence Length : 211\n",
      "mean sentence Length : 10.912743764695035\n",
      "median sentence Length : 7.0\n"
     ]
    }
   ],
   "source": [
    "print('min sentence Length : {}'.format(data.review_length.min()))\n",
    "print('max sentence Length : {}'.format(data.review_length.max()))\n",
    "print('mean sentence Length : {}'.format(data.review_length.mean()))\n",
    "print('median sentence Length : {}'.format(data.review_length.median()))"
   ]
  },
  {
   "cell_type": "code",
   "execution_count": 8,
   "metadata": {},
   "outputs": [
    {
     "data": {
      "text/plain": [
       "867640"
      ]
     },
     "execution_count": 8,
     "metadata": {},
     "output_type": "execute_result"
    }
   ],
   "source": [
    "sentence_corpus = []\n",
    "for i in data.review:\n",
    "    sentence_corpus.append(i.split())\n",
    "len(sentence_corpus)"
   ]
  },
  {
   "cell_type": "code",
   "execution_count": 9,
   "metadata": {},
   "outputs": [],
   "source": [
    "#sentence_corpus"
   ]
  },
  {
   "cell_type": "code",
   "execution_count": null,
   "metadata": {},
   "outputs": [],
   "source": [
    "vocab = []\n",
    "for i in data.review:\n",
    "    for j in i.split():\n",
    "        if j not in vocab:\n",
    "            vocab.append(j)\n",
    "            \n",
    "#vocab.append('<>')\n",
    "vocab_size = len(vocab)\n",
    "print('vocab_size : {}'.format(vocab_size))"
   ]
  },
  {
   "cell_type": "code",
   "execution_count": 39,
   "metadata": {},
   "outputs": [
    {
     "data": {
      "text/plain": [
       "81115"
      ]
     },
     "execution_count": 39,
     "metadata": {},
     "output_type": "execute_result"
    }
   ],
   "source": [
    "with open('vocab', 'wb') as fp:\n",
    "    pickle.dump(vocab, fp)\n",
    "len(vocab)"
   ]
  },
  {
   "cell_type": "code",
   "execution_count": null,
   "metadata": {},
   "outputs": [],
   "source": [
    "vocab = pickle.load(open('vocab', 'rb'))"
   ]
  },
  {
   "cell_type": "code",
   "execution_count": null,
   "metadata": {},
   "outputs": [],
   "source": [
    "word_to_idx = {}\n",
    "idx_to_word = {}\n",
    "for i in enumerate(vocab):\n",
    "    #print(i)\n",
    "    word_to_idx[i[1]] = i[0]\n",
    "    idx_to_word[i[0]] = i[1]\n",
    "print(len(word_to_idx))\n",
    "print(len(idx_to_word))"
   ]
  },
  {
   "cell_type": "code",
   "execution_count": 42,
   "metadata": {},
   "outputs": [
    {
     "name": "stdout",
     "output_type": "stream",
     "text": [
      "max_sentence_length : 200\n"
     ]
    }
   ],
   "source": [
    "#max_sentence_length = int(data.review_length.max())\n",
    "#max_sentence_length = int(data.review_length.median())\n",
    "max_sentence_length = 200\n",
    "seq_len = max_sentence_length\n",
    "print('max_sentence_length : {}'.format(max_sentence_length))\n",
    "for i in range(0,len(sentence_corpus)):\n",
    "    sentence = sentence_corpus[i]\n",
    "    if len(sentence) < max_sentence_length :\n",
    "        padding_length = max_sentence_length - len(sentence)\n",
    "        #print(padding_length)\n",
    "        for j in range(len(sentence) , max_sentence_length) :\n",
    "            sentence.append('<>')"
   ]
  },
  {
   "cell_type": "code",
   "execution_count": null,
   "metadata": {},
   "outputs": [],
   "source": [
    "embedding_dim = 128\n",
    "word2vec = Word2Vec(sentence_corpus, window=5 , min_count=1, size=embedding_dim)"
   ]
  },
  {
   "cell_type": "code",
   "execution_count": null,
   "metadata": {},
   "outputs": [],
   "source": [
    "vocabulary = word2vec.wv.vocab\n",
    "#print(vocabulary)"
   ]
  },
  {
   "cell_type": "code",
   "execution_count": null,
   "metadata": {},
   "outputs": [],
   "source": [
    "with open('vocabulary.wordvectors', 'wb') as fp:\n",
    "    pickle.dump(vocabulary, fp)"
   ]
  },
  {
   "cell_type": "code",
   "execution_count": null,
   "metadata": {},
   "outputs": [],
   "source": [
    "vocabulary = pickle.load(open('vocabulary.wordvectors', 'rb'))"
   ]
  },
  {
   "cell_type": "code",
   "execution_count": null,
   "metadata": {},
   "outputs": [],
   "source": [
    "if torch.cuda.is_available():\n",
    "    device = torch.device(\"cuda\")\n",
    "    print('cuda available, training on GPU')\n",
    "else :\n",
    "    device = torch.device(\"cpu\")\n",
    "    print('cuda NOT available, training on CPU')\n",
    "#device = torch.device(\"cpu\")   "
   ]
  },
  {
   "cell_type": "code",
   "execution_count": null,
   "metadata": {},
   "outputs": [],
   "source": [
    "#creating training data\n",
    "\n",
    "def vectorize_sentence(sentence):\n",
    "    sentence = sentence.split()\n",
    "    input_data = np.zeros((seq_len,embedding_dim))\n",
    "    #print(corpus)\n",
    "    k = 0\n",
    "    for i in sentence:\n",
    "        if k < seq_len : \n",
    "            if i == '<>':\n",
    "                word_vector = np.zeros(embedding_dim)\n",
    "            else:\n",
    "                word_vector = word2vec.wv[i] \n",
    "            input_data[k] = word_vector\n",
    "        else:\n",
    "            continue\n",
    "        k+=1\n",
    "        #print(i)\n",
    "    return input_data\n",
    "\n",
    "#input_data = vectorize_sentence('oz like')"
   ]
  },
  {
   "cell_type": "code",
   "execution_count": null,
   "metadata": {},
   "outputs": [],
   "source": [
    "#split data into trian test sets\n",
    "train_size = 0.80\n",
    "val_size = 0.10\n",
    "test_size = (1 - train_size - val_size)\n",
    "x_train , x_test, y_train , y_test = train_test_split(data.review, data.Liked, test_size=(test_size + val_size), random_state= 7)\n",
    "\n",
    "x_val = x_test.head(int(val_size * (data.shape[0])))\n",
    "y_val = y_test.head(int(val_size * (data.shape[0])))\n",
    "\n",
    "x_test = x_test.tail(int(test_size * (data.shape[0])))\n",
    "y_test = y_test.tail(int(test_size * (data.shape[0])))\n",
    "\n",
    "print('x_train shape : {}'.format(x_train.shape))\n",
    "print('y_train shape : {}\\n'.format(y_train.shape))\n",
    "print('x_test shape : {}'.format(x_test.shape))\n",
    "print('y_test shape : {}\\n'.format(y_test.shape))\n",
    "print('x_val shape : {}'.format(x_val.shape))\n",
    "print('y_val shape : {}'.format(y_val.shape))"
   ]
  },
  {
   "cell_type": "code",
   "execution_count": null,
   "metadata": {},
   "outputs": [],
   "source": [
    "batch_size = 100\n",
    "print('Using batch_size : {}'.format(batch_size))"
   ]
  },
  {
   "cell_type": "code",
   "execution_count": null,
   "metadata": {},
   "outputs": [],
   "source": [
    "x_train_data = [] \n",
    "y_train_data = []\n",
    "for idx in x_train.index:\n",
    "    sentence = (x_train[idx])\n",
    "    feature = vectorize_sentence(sentence)\n",
    "    label = y_train[idx]\n",
    "    x_train_data.append(feature)\n",
    "    y_train_data.append(label)\n",
    "    #print(feature)\n",
    "    #print(label)\n",
    "    \n",
    "#Convert input data to tensors\n",
    "x_train_data_tensor = torch.tensor(x_train_data)\n",
    "y_train_data_tensor = torch.tensor(y_train_data)\n",
    "print(x_train_data_tensor.shape)\n",
    "\n",
    "#Convert tensors to type Dataset\n",
    "train_dataset = torch.utils.data.TensorDataset(x_train_data_tensor ,y_train_data_tensor)\n",
    "print(type(train_dataset))\n",
    "\n",
    "#Convert datsets to Dataloader for loading batches\n",
    "train_dataset = DataLoader(train_dataset, batch_size=batch_size, shuffle=True, num_workers=0)\n",
    "type(train_dataset)"
   ]
  },
  {
   "cell_type": "code",
   "execution_count": null,
   "metadata": {},
   "outputs": [],
   "source": [
    "x_test_data = [] \n",
    "y_test_data = []\n",
    "for idx in x_test.index:\n",
    "    sentence = (x_test[idx])\n",
    "    feature = vectorize_sentence(sentence)\n",
    "    label = y_test[idx]\n",
    "    x_test_data.append(feature)\n",
    "    y_test_data.append(label)\n",
    "    #print(feature)\n",
    "    #print(label)\n",
    "    \n",
    "#Convert input data to tensors\n",
    "x_test_data_tensor = torch.tensor(x_test_data)\n",
    "y_test_data_tensor = torch.tensor(y_test_data)\n",
    "print(x_test_data_tensor.shape)\n",
    "\n",
    "#Convert tensors to type Dataset\n",
    "test_dataset = torch.utils.data.TensorDataset(x_test_data_tensor ,y_test_data_tensor)\n",
    "print(type(test_dataset))\n",
    "\n",
    "#Convert datsets to Dataloader for loading batches\n",
    "test_dataset = DataLoader(test_dataset, batch_size=batch_size, shuffle=True, num_workers=0)\n",
    "type(test_dataset)"
   ]
  },
  {
   "cell_type": "code",
   "execution_count": null,
   "metadata": {},
   "outputs": [],
   "source": [
    "x_val_data = [] \n",
    "y_val_data = []\n",
    "for idx in x_val.index:\n",
    "    sentence = (x_val[idx])\n",
    "    feature = vectorize_sentence(sentence)\n",
    "    label = y_val[idx]\n",
    "    x_val_data.append(feature)\n",
    "    y_val_data.append(label)\n",
    "    #print(feature)\n",
    "    #print(label)\n",
    "    \n",
    "#Convert input data to tensors\n",
    "x_val_data_tensor = torch.tensor(x_val_data)\n",
    "y_val_data_tensor = torch.tensor(y_val_data)\n",
    "print(x_val_data_tensor.shape)\n",
    "\n",
    "#Convert tensors to type Dataset\n",
    "val_dataset = torch.utils.data.TensorDataset(x_val_data_tensor ,y_val_data_tensor)\n",
    "print(type(val_dataset))\n",
    "\n",
    "#Convert datsets to Dataloader for loading batches\n",
    "val_dataset = DataLoader(val_dataset, batch_size=batch_size, shuffle=True, num_workers=0)\n",
    "type(val_dataset)"
   ]
  },
  {
   "cell_type": "code",
   "execution_count": null,
   "metadata": {},
   "outputs": [],
   "source": [
    "torch.save(val_dataset, 'val_dataset.dataloader')\n",
    "torch.save(test_dataset, 'test_dataset.dataloader')\n",
    "torch.save(train_dataset, 'train_dataset.dataloader')"
   ]
  },
  {
   "cell_type": "code",
   "execution_count": 6,
   "metadata": {},
   "outputs": [
    {
     "name": "stdout",
     "output_type": "stream",
     "text": [
      "train_dataset data loaded\n",
      "val_dataset data loaded\n",
      "test_dataset data loaded\n",
      "cuda available, training on GPU\n"
     ]
    }
   ],
   "source": [
    "#RUN this part if loaders are already saved\n",
    "train_dataset = torch.load('train_dataset.dataloader')\n",
    "print('train_dataset data loaded')\n",
    "\n",
    "val_dataset = torch.load('val_dataset.dataloader')\n",
    "print('val_dataset data loaded')\n",
    "\n",
    "test_dataset = torch.load('test_dataset.dataloader')\n",
    "print('test_dataset data loaded')\n",
    "\n",
    "\n",
    "if torch.cuda.is_available():\n",
    "    device = torch.device(\"cuda\")\n",
    "    print('cuda available, training on GPU')\n",
    "else :\n",
    "    device = torch.device(\"cpu\")\n",
    "    print('cuda NOT available, training on CPU')\n",
    "##device = torch.device(\"cpu\")   \n",
    "\n",
    "embedding_dim = 64\n",
    "batch_size = 500\n",
    "\n"
   ]
  },
  {
   "cell_type": "code",
   "execution_count": 7,
   "metadata": {},
   "outputs": [
    {
     "name": "stderr",
     "output_type": "stream",
     "text": [
      "/home/adityarane/.local/lib/python3.5/site-packages/torch/nn/modules/rnn.py:54: UserWarning: dropout option adds dropout after all but last recurrent layer, so non-zero dropout expects num_layers greater than 1, but got dropout=0.33 and num_layers=1\n",
      "  \"num_layers={}\".format(dropout, num_layers))\n"
     ]
    },
    {
     "data": {
      "text/plain": [
       "SentimentRNN(\n",
       "  (lstm1): LSTM(64, 64, batch_first=True, dropout=0.33)\n",
       "  (fc1): Linear(in_features=64, out_features=64, bias=True)\n",
       "  (dropout): Dropout(p=0.33)\n",
       "  (out): Linear(in_features=64, out_features=2, bias=True)\n",
       ")"
      ]
     },
     "execution_count": 7,
     "metadata": {},
     "output_type": "execute_result"
    }
   ],
   "source": [
    "output_size = 2\n",
    "input_size = embedding_dim\n",
    "hidden_size = embedding_dim\n",
    "num_layers = 1\n",
    "batch_size = batch_size\n",
    "drop_out_probability = 0.33\n",
    "\n",
    "\n",
    "class SentimentRNN(nn.Module):\n",
    "    def __init__(self , input_size , hidden_size , num_layers , output_size):\n",
    "        super(SentimentRNN ,self).__init__()\n",
    "        \n",
    "        self.input_size = input_size\n",
    "        self.hidden_size = hidden_size\n",
    "        self.num_layers = num_layers\n",
    "        self.output_size = output_size\n",
    "        \n",
    "        #Input sequence of embedded word vectors\n",
    "        self.lstm1 = nn.LSTM(input_size = input_size\n",
    "                             , hidden_size = hidden_size \n",
    "                             , num_layers = num_layers\n",
    "                             , batch_first = True \n",
    "                             ,dropout=drop_out_probability)\n",
    "        \n",
    "        # Inputs to hidden layer linear transformation\n",
    "        self.fc1 = nn.Linear(in_features = input_size , out_features = hidden_size)\n",
    "        #self.fc2 = nn.Linear(in_features = hidden_size , out_features = int(hidden_size/2))\n",
    "        #self.fc3 = nn.Linear(in_features = int(hidden_size/2) , out_features = int(hidden_size/2))\n",
    "        \n",
    "        #Droput layer before output\n",
    "        self.dropout = nn.Dropout(p = drop_out_probability)\n",
    "        \n",
    "        # Output layer, 10 units - one for each digit\n",
    "        #self.out = nn.Linear(in_features = int(hidden_size/2) , out_features = output_size)\n",
    "        self.out = nn.Linear(in_features = hidden_size , out_features = output_size)\n",
    "        \n",
    "    def _init_hidden(self,batch_size):\n",
    "        hidden = torch.zeros((self.num_layers, batch_size , self.hidden_size),dtype = torch.float64)\n",
    "        c_0 = torch.zeros((self.num_layers, batch_size , self.hidden_size),dtype = torch.float64)\n",
    "        return hidden.to(device) , c_0.to(device)\n",
    "        #return hidden.cpu() , c_0.cpu()\n",
    "        \n",
    "    def forward(self,x):\n",
    "        \n",
    "        #create initial hidden layer of zeros and intial state of zeros\n",
    "        hidden , c_0 = self._init_hidden(batch_size)\n",
    "        #print('hidden :{}'.format(hidden.shape))\n",
    "        \n",
    "        # Pass the input tensor through LSTM\n",
    "        lstm_out ,hidden = self.lstm1(x,(hidden,c_0))\n",
    "        #print('lstm_out :{}'.format(lstm_out.shape))\n",
    "        \n",
    "        #Transpose tensor before feeding into Linear layer\n",
    "        lstm_out = lstm_out.transpose(dim0 = 0, dim1 = 1)\n",
    "        #Pass output og LSTM through Fully connected layer\n",
    "        x = self.fc1(lstm_out[-1]) #pass only last output to fully connected layer\n",
    "        #print('x :{}'.format(x.shape))\n",
    "        x = F.relu(x)\n",
    "        \n",
    "        #2nd hidden layer\n",
    "        #x = self.fc2(x)\n",
    "        #x = F.relu(x)\n",
    "        \n",
    "        #3rd hidden layer\n",
    "        #x = self.fc3(x)\n",
    "        #x = F.relu(x)\n",
    "        \n",
    "        #Dropout layer\n",
    "        x = self.dropout(x)\n",
    "        x = F.relu(x)\n",
    "        \n",
    "        #Output layer\n",
    "        x = self.out(x)\n",
    "        #x = F.sigmoid(x)\n",
    "        \n",
    "        return x\n",
    "    \n",
    "sentimentrnn = SentimentRNN(input_size = input_size \n",
    "                            , hidden_size = hidden_size \n",
    "                            , num_layers = num_layers\n",
    "                            , output_size = output_size )\n",
    "sentimentrnn.double()\n",
    "sentimentrnn.to(device)\n",
    "#sentimentrnn.cuda()"
   ]
  },
  {
   "cell_type": "code",
   "execution_count": 8,
   "metadata": {},
   "outputs": [],
   "source": [
    "torch.cuda.empty_cache()"
   ]
  },
  {
   "cell_type": "code",
   "execution_count": 9,
   "metadata": {},
   "outputs": [
    {
     "name": "stdout",
     "output_type": "stream",
     "text": [
      "epoch : 0 \t batch number : 0 \t train loss : 0.6964970449882213\n",
      "epoch : 0 \t batch number : 50 \t train loss : 0.290643731065399\n",
      "epoch : 0 \t batch number : 100 \t train loss : 0.21596144890250135\n",
      "epoch : 0 \t batch number : 150 \t train loss : 0.20128884787578546\n",
      "epoch : 0 \t batch number : 200 \t train loss : 0.19448205300120466\n",
      "epoch : 0 \t batch number : 250 \t train loss : 0.18854510077496986\n",
      "epoch : 0 \t batch number : 300 \t train loss : 0.1525709777916532\n",
      "epoch : 0 \t batch number : 350 \t train loss : 0.19007151402875788\n",
      "epoch : 0 \t batch number : 400 \t train loss : 0.1885195579223875\n",
      "epoch : 0 \t batch number : 450 \t train loss : 0.19913910020459205\n",
      "epoch : 0 \t batch number : 500 \t train loss : 0.1869398066020362\n"
     ]
    },
    {
     "name": "stderr",
     "output_type": "stream",
     "text": [
      "Traceback (most recent call last):\n",
      "  File \"/usr/lib/python3.5/multiprocessing/util.py\", line 254, in _run_finalizers\n",
      "    finalizer()\n",
      "  File \"/usr/lib/python3.5/multiprocessing/util.py\", line 186, in __call__\n",
      "    res = self._callback(*self._args, **self._kwargs)\n",
      "  File \"/usr/lib/python3.5/shutil.py\", line 484, in rmtree\n",
      "    onerror(os.rmdir, path, sys.exc_info())\n",
      "  File \"/usr/lib/python3.5/shutil.py\", line 482, in rmtree\n",
      "    os.rmdir(path)\n",
      "OSError: [Errno 39] Directory not empty: '/tmp/pymp-4w6h434m'\n"
     ]
    },
    {
     "name": "stdout",
     "output_type": "stream",
     "text": [
      "epoch : 0 \t batch number : 550 \t train loss : 0.1973734224724397\n",
      "epoch : 0 \t batch number : 600 \t train loss : 0.17747223052735375\n",
      "epoch : 0 \t batch number : 650 \t train loss : 0.21063847090417606\n",
      "epoch : 0 \t batch number : 700 \t train loss : 0.20676834306492728\n",
      "epoch : 0 \t batch number : 750 \t train loss : 0.2106533480071439\n"
     ]
    },
    {
     "name": "stderr",
     "output_type": "stream",
     "text": [
      "Traceback (most recent call last):\n",
      "  File \"/usr/lib/python3.5/multiprocessing/util.py\", line 254, in _run_finalizers\n",
      "    finalizer()\n",
      "  File \"/usr/lib/python3.5/multiprocessing/util.py\", line 186, in __call__\n",
      "    res = self._callback(*self._args, **self._kwargs)\n",
      "  File \"/usr/lib/python3.5/shutil.py\", line 484, in rmtree\n",
      "    onerror(os.rmdir, path, sys.exc_info())\n",
      "  File \"/usr/lib/python3.5/shutil.py\", line 482, in rmtree\n",
      "    os.rmdir(path)\n",
      "OSError: [Errno 39] Directory not empty: '/tmp/pymp-mxvndme1'\n"
     ]
    },
    {
     "name": "stdout",
     "output_type": "stream",
     "text": [
      "epoch : 0 \t batch number : 800 \t train loss : 0.1972108927782609\n",
      "epoch : 0 \t batch number : 850 \t train loss : 0.21988689888775934\n",
      "epoch : 0 \t batch number : 900 \t train loss : 0.1764959035223374\n",
      "epoch : 0 \t batch number : 950 \t train loss : 0.2117736311114736\n",
      "epoch : 0 \t batch number : 1000 \t train loss : 0.1923729675515089\n",
      "epoch : 0 \t batch number : 1050 \t train loss : 0.19168484285745654\n",
      "epoch : 0 \t batch number : 1100 \t train loss : 0.18692156343925498\n",
      "epoch : 0 \t batch number : 1150 \t train loss : 0.19127031969518857\n",
      "epoch : 0 \t batch number : 1200 \t train loss : 0.20413096951641144\n"
     ]
    },
    {
     "name": "stderr",
     "output_type": "stream",
     "text": [
      "Traceback (most recent call last):\n",
      "  File \"/usr/lib/python3.5/multiprocessing/util.py\", line 254, in _run_finalizers\n",
      "    finalizer()\n",
      "  File \"/usr/lib/python3.5/multiprocessing/util.py\", line 186, in __call__\n",
      "    res = self._callback(*self._args, **self._kwargs)\n",
      "  File \"/usr/lib/python3.5/shutil.py\", line 484, in rmtree\n",
      "    onerror(os.rmdir, path, sys.exc_info())\n",
      "  File \"/usr/lib/python3.5/shutil.py\", line 482, in rmtree\n",
      "    os.rmdir(path)\n",
      "OSError: [Errno 39] Directory not empty: '/tmp/pymp-j93obpj5'\n"
     ]
    },
    {
     "name": "stdout",
     "output_type": "stream",
     "text": [
      "epoch : 0 \t batch number : 1250 \t train loss : 0.18031943408212964\n",
      "epoch : 0 \t batch number : 1300 \t train loss : 0.1873786136958737\n",
      "epoch : 0 \t batch number : 1350 \t train loss : 0.207262360529206\n",
      "\n",
      "epoch : 0 \t train loss : 0.15876672543761153 \t time required : 1086.9041156768799\n",
      "epoch : 0\t train_loss :0.2077795158151569\t validation loss : 0.18519004273453746\n",
      "\n",
      "epoch : 1 \t batch number : 0 \t train loss : 0.18962014826680984\n",
      "epoch : 1 \t batch number : 50 \t train loss : 0.2139751627977702\n",
      "epoch : 1 \t batch number : 100 \t train loss : 0.20548330247196261\n",
      "epoch : 1 \t batch number : 150 \t train loss : 0.15747443686073626\n",
      "epoch : 1 \t batch number : 200 \t train loss : 0.17282897256089144\n",
      "epoch : 1 \t batch number : 250 \t train loss : 0.2254581538777694\n",
      "epoch : 1 \t batch number : 300 \t train loss : 0.14823845073439268\n",
      "epoch : 1 \t batch number : 350 \t train loss : 0.18780466357400555\n",
      "epoch : 1 \t batch number : 400 \t train loss : 0.19300806080368152\n",
      "epoch : 1 \t batch number : 450 \t train loss : 0.20602915604963248\n",
      "epoch : 1 \t batch number : 500 \t train loss : 0.17077023218989176\n",
      "epoch : 1 \t batch number : 550 \t train loss : 0.1942819053582471\n",
      "epoch : 1 \t batch number : 600 \t train loss : 0.16554184952926637\n",
      "epoch : 1 \t batch number : 650 \t train loss : 0.17863257729757334\n",
      "epoch : 1 \t batch number : 700 \t train loss : 0.16015971833951423\n",
      "epoch : 1 \t batch number : 750 \t train loss : 0.1690580032063779\n",
      "epoch : 1 \t batch number : 800 \t train loss : 0.21555182463295275\n",
      "epoch : 1 \t batch number : 850 \t train loss : 0.21661843310149137\n",
      "epoch : 1 \t batch number : 900 \t train loss : 0.15320369296540282\n",
      "epoch : 1 \t batch number : 950 \t train loss : 0.16532108880759266\n",
      "epoch : 1 \t batch number : 1000 \t train loss : 0.15391773901145253\n",
      "epoch : 1 \t batch number : 1050 \t train loss : 0.19172708410689407\n",
      "epoch : 1 \t batch number : 1100 \t train loss : 0.1601593137167828\n",
      "epoch : 1 \t batch number : 1150 \t train loss : 0.14584586284113094\n",
      "epoch : 1 \t batch number : 1200 \t train loss : 0.13687732353627402\n",
      "epoch : 1 \t batch number : 1250 \t train loss : 0.17107345608383784\n",
      "epoch : 1 \t batch number : 1300 \t train loss : 0.16404026140466166\n",
      "epoch : 1 \t batch number : 1350 \t train loss : 0.20329391115569106\n"
     ]
    },
    {
     "name": "stderr",
     "output_type": "stream",
     "text": [
      "Traceback (most recent call last):\n",
      "  File \"/usr/lib/python3.5/multiprocessing/util.py\", line 254, in _run_finalizers\n",
      "    finalizer()\n",
      "  File \"/usr/lib/python3.5/multiprocessing/util.py\", line 186, in __call__\n",
      "    res = self._callback(*self._args, **self._kwargs)\n",
      "  File \"/usr/lib/python3.5/shutil.py\", line 484, in rmtree\n",
      "    onerror(os.rmdir, path, sys.exc_info())\n",
      "  File \"/usr/lib/python3.5/shutil.py\", line 482, in rmtree\n",
      "    os.rmdir(path)\n",
      "OSError: [Errno 39] Directory not empty: '/tmp/pymp-1e3pq14_'\n"
     ]
    },
    {
     "name": "stdout",
     "output_type": "stream",
     "text": [
      "\n",
      "epoch : 1 \t train loss : 0.1830825635707937 \t time required : 1092.4187743663788\n",
      "patience_ctr : 1\n",
      "epoch : 1\t train_loss :0.17900242557226048\t validation loss : 0.1799509153546948\n",
      "\n"
     ]
    }
   ],
   "source": [
    "epochs = 2\n",
    "loss_fn = F.cross_entropy\n",
    "#loss_fn =  F.nll_loss\n",
    "#loss_fn = F.mse_loss\n",
    "learning_rate = 0.001\n",
    "\n",
    "optimizer = torch.optim.Adam(sentimentrnn.parameters(), lr = learning_rate)\n",
    "#optimizer = torch.optim.RMSprop(sentimentrnn.parameters(), lr = learning_rate)\n",
    "print_every = 50\n",
    "sentimentrnn.to(device)\n",
    "\n",
    "\n",
    "# to track the average training loss per epoch as the model trains\n",
    "avg_train_losses = []\n",
    "# to track the average validation loss per epoch as the model trains\n",
    "avg_valid_losses = [] \n",
    "patience_ctr = 0\n",
    "patience = 5\n",
    "    \n",
    "for epoch in range(0,epochs):\n",
    "    \n",
    "    # to track the training loss as the model trains\n",
    "    train_losses = []\n",
    "    # to track the validation loss as the model trains\n",
    "    valid_losses = []\n",
    "\n",
    "    batch = 0\n",
    "    #loss = 0\n",
    "    start_time = time.time()\n",
    "    sentimentrnn.train()\n",
    "    for i in train_dataset :\n",
    "        x, y = next(iter(train_dataset))\n",
    "        x = x.to(device)\n",
    "        y = y.to(device)\n",
    "        \n",
    "        optimizer.zero_grad()\n",
    "        y_pred = sentimentrnn(x)\n",
    "        \n",
    "        loss = loss_fn(y_pred , y)\n",
    "        loss.backward()\n",
    "        optimizer.step()\n",
    "        \n",
    "        train_losses.append(loss.item())\n",
    "        \n",
    "        if batch % print_every == 0:\n",
    "            print('epoch : {} \\t batch number : {} \\t train loss : {}'.format(epoch, batch,loss.item()))\n",
    "            \n",
    "        batch +=1\n",
    "    \n",
    "    print('\\nepoch : {} \\t train loss : {} \\t time required : {}'.format(epoch, loss.item(),(time.time() - start_time)))\n",
    "    \n",
    "    #Calculate Validation loss\n",
    "    val_acc = 0\n",
    "    sentimentrnn.eval()\n",
    "    for j in val_dataset :\n",
    "        x_v, y_v = next(iter(val_dataset))\n",
    "        x_v = x_v.to(device)\n",
    "        y_v = y_v.to(device)\n",
    "        \n",
    "        y_pred = sentimentrnn(x_v)\n",
    "        loss = loss_fn(y_pred , y_v)\n",
    "        \n",
    "        valid_losses.append(loss.item())\n",
    "        \n",
    "    # print training/validation statistics \n",
    "    # calculate average loss over an epoch\n",
    "    train_loss = np.average(train_losses)\n",
    "    valid_loss = np.average(valid_losses)\n",
    "    avg_train_losses.append(train_loss)\n",
    "    avg_valid_losses.append(valid_loss)\n",
    "    \n",
    "    \n",
    "    #Early stopping\n",
    "    if valid_loss > train_loss:\n",
    "        patience_ctr +=1\n",
    "        print('patience_ctr : {}'.format(patience_ctr))\n",
    "        if patience_ctr >= patience:\n",
    "            print('early stoppping since valid_loss > train_loss')\n",
    "            #break\n",
    "    else :\n",
    "        patience_ctr = 0\n",
    "    \n",
    "    epoch_len = len(str(epochs))\n",
    "        \n",
    "    #print('epoch : {} \\t validation loss : {} \\t time required : {} \\n'.format(epoch, loss.item(),(time.time() - start_time)))\n",
    "\n",
    "    print('epoch : {}\\t train_loss :{}\\t validation loss : {}\\n'.format(epoch , train_loss , valid_loss))"
   ]
  },
  {
   "cell_type": "code",
   "execution_count": 10,
   "metadata": {},
   "outputs": [
    {
     "data": {
      "text/plain": [
       "<function matplotlib.pyplot.show(*args, **kw)>"
      ]
     },
     "execution_count": 10,
     "metadata": {},
     "output_type": "execute_result"
    },
    {
     "data": {
      "image/png": "[encoded data removed]",
      "text/plain": [
       "<Figure size 1440x720 with 1 Axes>"
      ]
     },
     "metadata": {
      "needs_background": "light"
     },
     "output_type": "display_data"
    }
   ],
   "source": [
    "# visualize the loss as the network trained\n",
    "fig = plt.figure(figsize=(20,10))\n",
    "plt.plot(range(0,epochs),avg_train_losses, label='Training Loss')\n",
    "plt.plot(range(0,epochs),avg_valid_losses, label='Validation Loss')\n",
    "\n",
    "plt.xlabel('epochs')\n",
    "plt.xticks(range(0,epochs))\n",
    "plt.ylabel('loss')\n",
    "plt.grid()\n",
    "plt.show"
   ]
  },
  {
   "cell_type": "code",
   "execution_count": 11,
   "metadata": {},
   "outputs": [
    {
     "name": "stdout",
     "output_type": "stream",
     "text": [
      "tensor([0, 1, 1, 1, 1, 1, 1, 1, 1, 1, 0, 0, 0, 0, 1, 1, 1, 0, 0, 1, 1, 1, 0, 1,\n",
      "        1, 1, 0, 0, 1, 1, 1, 0, 0, 1, 1, 1, 1, 1, 1, 0, 1, 0, 1, 0, 0, 1, 0, 0,\n",
      "        0, 0, 0, 1, 1, 0, 0, 1, 1, 0, 1, 1, 1, 0, 0, 1, 1, 0, 0, 0, 1, 1, 1, 1,\n",
      "        1, 1, 0, 1, 1, 0, 0, 0, 1, 1, 1, 1, 1, 1, 1, 0, 1, 1, 1, 0, 1, 1, 0, 1,\n",
      "        1, 1, 1, 0, 0, 0, 1, 1, 0, 0, 0, 0, 1, 1, 1, 1, 0, 0, 1, 1, 1, 0, 1, 1,\n",
      "        1, 0, 1, 1, 0, 0, 0, 0, 0, 1, 1, 1, 1, 0, 1, 0, 1, 0, 0, 0, 1, 0, 1, 1,\n",
      "        0, 1, 1, 0, 0, 0, 0, 1, 0, 1, 0, 0, 1, 0, 0, 1, 1, 0, 1, 0, 1, 1, 0, 1,\n",
      "        0, 1, 1, 0, 0, 1, 0, 1, 1, 1, 1, 0, 1, 0, 0, 0, 1, 1, 1, 0, 1, 0, 1, 1,\n",
      "        0, 1, 0, 1, 1, 1, 1, 0, 0, 1, 1, 0, 1, 1, 0, 1, 1, 0, 1, 0, 1, 1, 1, 1,\n",
      "        0, 0, 0, 1, 1, 1, 1, 1, 1, 0, 1, 0, 1, 0, 1, 0, 0, 0, 1, 1, 1, 0, 1, 1,\n",
      "        1, 1, 0, 0, 1, 1, 0, 1, 1, 1, 1, 1, 1, 1, 0, 1, 1, 1, 0, 0, 1, 1, 0, 1,\n",
      "        0, 1, 1, 0, 1, 1, 1, 0, 0, 0, 1, 0, 1, 1, 0, 0, 0, 1, 1, 0, 1, 0, 0, 1,\n",
      "        1, 0, 1, 1, 1, 0, 1, 1, 1, 0, 0, 1, 0, 1, 0, 0, 0, 1, 1, 1, 1, 1, 1, 0,\n",
      "        0, 1, 1, 1, 1, 0, 1, 0, 1, 1, 0, 1, 0, 0, 1, 1, 0, 1, 0, 1, 0, 1, 1, 0,\n",
      "        0, 0, 0, 1, 1, 1, 1, 0, 1, 0, 1, 1, 1, 1, 1, 1, 1, 0, 1, 0, 1, 0, 0, 0,\n",
      "        0, 0, 0, 0, 1, 1, 0, 1, 1, 0, 1, 1, 1, 0, 0, 0, 0, 0, 0, 1, 0, 1, 1, 0,\n",
      "        1, 1, 1, 1, 1, 1, 0, 0, 1, 0, 1, 0, 0, 0, 1, 1, 1, 1, 1, 1, 0, 1, 1, 1,\n",
      "        0, 1, 1, 1, 0, 0, 1, 1, 1, 1, 0, 1, 1, 0, 0, 0, 0, 1, 1, 0, 0, 1, 0, 1,\n",
      "        1, 0, 1, 1, 0, 1, 1, 0, 1, 1, 1, 0, 0, 0, 1, 0, 1, 1, 0, 1, 1, 0, 0, 0,\n",
      "        1, 1, 0, 0, 0, 1, 1, 1, 0, 0, 1, 0, 0, 0, 0, 1, 0, 1, 1, 0, 1, 1, 0, 1,\n",
      "        0, 0, 0, 0, 1, 0, 0, 0, 0, 1, 1, 0, 0, 1, 1, 0, 1, 1, 1, 1],\n",
      "       device='cuda:0') \n",
      "\n",
      "tensor([0, 1, 1, 0, 1, 1, 1, 1, 1, 1, 0, 0, 0, 0, 1, 1, 0, 0, 0, 1, 1, 1, 0, 1,\n",
      "        1, 1, 0, 0, 1, 1, 1, 0, 0, 1, 1, 1, 1, 1, 1, 0, 1, 1, 1, 0, 0, 1, 0, 0,\n",
      "        0, 0, 0, 1, 1, 0, 1, 1, 1, 0, 1, 1, 1, 0, 0, 1, 1, 0, 0, 0, 1, 1, 1, 1,\n",
      "        1, 1, 0, 1, 1, 0, 0, 0, 1, 1, 1, 1, 1, 1, 1, 0, 1, 1, 1, 0, 1, 1, 0, 1,\n",
      "        1, 1, 1, 0, 0, 0, 1, 1, 0, 0, 0, 1, 1, 1, 1, 0, 0, 0, 1, 1, 1, 0, 1, 1,\n",
      "        1, 0, 1, 1, 0, 0, 1, 1, 0, 1, 1, 1, 1, 0, 1, 0, 1, 0, 0, 0, 1, 0, 1, 1,\n",
      "        0, 1, 1, 0, 0, 0, 0, 1, 1, 1, 0, 0, 1, 0, 0, 1, 1, 0, 1, 0, 1, 1, 0, 1,\n",
      "        0, 0, 1, 0, 0, 1, 0, 1, 1, 1, 0, 0, 1, 0, 0, 0, 1, 1, 1, 0, 1, 0, 1, 1,\n",
      "        0, 1, 0, 1, 1, 1, 1, 0, 0, 1, 1, 0, 1, 1, 0, 1, 1, 0, 1, 0, 1, 1, 1, 1,\n",
      "        0, 1, 0, 1, 1, 1, 1, 0, 1, 0, 1, 0, 1, 0, 1, 1, 1, 0, 1, 1, 1, 0, 1, 1,\n",
      "        1, 1, 0, 0, 1, 1, 0, 1, 1, 1, 1, 1, 1, 1, 0, 1, 1, 1, 0, 1, 1, 1, 0, 0,\n",
      "        0, 0, 1, 0, 1, 1, 1, 0, 0, 0, 1, 0, 1, 1, 0, 0, 0, 1, 1, 0, 1, 0, 0, 1,\n",
      "        1, 0, 1, 1, 1, 0, 1, 1, 1, 0, 0, 1, 0, 1, 0, 0, 0, 1, 1, 1, 1, 1, 1, 0,\n",
      "        0, 1, 1, 1, 1, 0, 1, 0, 1, 1, 0, 1, 1, 0, 0, 1, 1, 1, 0, 1, 1, 1, 1, 0,\n",
      "        0, 0, 0, 1, 1, 1, 1, 1, 1, 0, 1, 1, 0, 1, 1, 1, 1, 1, 1, 0, 1, 0, 0, 1,\n",
      "        0, 0, 0, 0, 1, 1, 0, 1, 1, 0, 1, 1, 1, 1, 0, 0, 0, 0, 0, 1, 0, 1, 0, 0,\n",
      "        1, 1, 1, 1, 1, 1, 0, 0, 1, 0, 1, 0, 0, 0, 1, 1, 1, 1, 1, 1, 0, 1, 1, 1,\n",
      "        0, 1, 1, 0, 0, 0, 1, 1, 1, 0, 0, 1, 1, 0, 0, 0, 0, 1, 1, 0, 0, 0, 1, 1,\n",
      "        1, 0, 1, 1, 0, 1, 1, 0, 1, 1, 1, 0, 0, 0, 1, 0, 1, 0, 0, 1, 1, 0, 0, 0,\n",
      "        1, 1, 0, 0, 0, 1, 1, 1, 0, 0, 1, 0, 0, 0, 0, 1, 0, 1, 1, 0, 1, 1, 0, 1,\n",
      "        0, 0, 0, 1, 0, 0, 0, 0, 1, 1, 1, 0, 0, 1, 1, 0, 1, 1, 1, 1],\n",
      "       device='cuda:0') \n",
      "\n",
      "tensor([1, 1, 1, 0, 1, 1, 1, 1, 1, 1, 1, 1, 1, 1, 1, 1, 0, 1, 1, 1, 1, 1, 1, 1,\n",
      "        1, 1, 1, 1, 1, 1, 1, 1, 1, 1, 1, 1, 1, 1, 1, 1, 1, 0, 1, 1, 1, 1, 1, 1,\n",
      "        1, 1, 1, 1, 1, 1, 0, 1, 1, 1, 1, 1, 1, 1, 1, 1, 1, 1, 1, 1, 1, 1, 1, 1,\n",
      "        1, 1, 1, 1, 1, 1, 1, 1, 1, 1, 1, 1, 1, 1, 1, 1, 1, 1, 1, 1, 1, 1, 1, 1,\n",
      "        1, 1, 1, 1, 1, 1, 1, 1, 1, 1, 1, 0, 1, 1, 1, 0, 1, 1, 1, 1, 1, 1, 1, 1,\n",
      "        1, 1, 1, 1, 1, 1, 0, 0, 1, 1, 1, 1, 1, 1, 1, 1, 1, 1, 1, 1, 1, 1, 1, 1,\n",
      "        1, 1, 1, 1, 1, 1, 1, 1, 0, 1, 1, 1, 1, 1, 1, 1, 1, 1, 1, 1, 1, 1, 1, 1,\n",
      "        1, 0, 1, 1, 1, 1, 1, 1, 1, 1, 0, 1, 1, 1, 1, 1, 1, 1, 1, 1, 1, 1, 1, 1,\n",
      "        1, 1, 1, 1, 1, 1, 1, 1, 1, 1, 1, 1, 1, 1, 1, 1, 1, 1, 1, 1, 1, 1, 1, 1,\n",
      "        1, 0, 1, 1, 1, 1, 1, 0, 1, 1, 1, 1, 1, 1, 1, 0, 0, 1, 1, 1, 1, 1, 1, 1,\n",
      "        1, 1, 1, 1, 1, 1, 1, 1, 1, 1, 1, 1, 1, 1, 1, 1, 1, 1, 1, 0, 1, 1, 1, 0,\n",
      "        1, 0, 1, 1, 1, 1, 1, 1, 1, 1, 1, 1, 1, 1, 1, 1, 1, 1, 1, 1, 1, 1, 1, 1,\n",
      "        1, 1, 1, 1, 1, 1, 1, 1, 1, 1, 1, 1, 1, 1, 1, 1, 1, 1, 1, 1, 1, 1, 1, 1,\n",
      "        1, 1, 1, 1, 1, 1, 1, 1, 1, 1, 1, 1, 0, 1, 0, 1, 0, 1, 1, 1, 0, 1, 1, 1,\n",
      "        1, 1, 1, 1, 1, 1, 1, 0, 1, 1, 1, 1, 0, 1, 1, 1, 1, 0, 1, 1, 1, 1, 1, 0,\n",
      "        1, 1, 1, 1, 1, 1, 1, 1, 1, 1, 1, 1, 1, 0, 1, 1, 1, 1, 1, 1, 1, 1, 0, 1,\n",
      "        1, 1, 1, 1, 1, 1, 1, 1, 1, 1, 1, 1, 1, 1, 1, 1, 1, 1, 1, 1, 1, 1, 1, 1,\n",
      "        1, 1, 1, 0, 1, 1, 1, 1, 1, 0, 1, 1, 1, 1, 1, 1, 1, 1, 1, 1, 1, 0, 0, 1,\n",
      "        1, 1, 1, 1, 1, 1, 1, 1, 1, 1, 1, 1, 1, 1, 1, 1, 1, 0, 1, 1, 1, 1, 1, 1,\n",
      "        1, 1, 1, 1, 1, 1, 1, 1, 1, 1, 1, 1, 1, 1, 1, 1, 1, 1, 1, 1, 1, 1, 1, 1,\n",
      "        1, 1, 1, 0, 0, 1, 1, 1, 0, 1, 1, 1, 1, 1, 1, 1, 1, 1, 1, 1],\n",
      "       device='cuda:0', dtype=torch.uint8) \n",
      "\n",
      "tensor(464, device='cuda:0')\n"
     ]
    }
   ],
   "source": [
    "x_test , y_test = next(iter(train_dataset))\n",
    "#sentimentrnn.cpu()\n",
    "#sentimentrnn.to(device)\n",
    "sentimentrnn.eval()\n",
    "y_pred = sentimentrnn(x_test.to(device))\n",
    "y_pred\n",
    "print(y_pred.argmax(dim = 1),'\\n')\n",
    "\n",
    "y_test = y_test.to(device)\n",
    "print(y_test,'\\n')\n",
    "\n",
    "print(y_pred.argmax(dim = 1).eq(y_test),'\\n')\n",
    "print(y_pred.argmax(dim = 1).eq(y_test).sum())"
   ]
  },
  {
   "cell_type": "code",
   "execution_count": 12,
   "metadata": {},
   "outputs": [
    {
     "name": "stdout",
     "output_type": "stream",
     "text": [
      "tensor([0, 1, 1, 0, 1, 0, 0, 0, 1, 1, 1, 0, 0, 0, 1, 1, 1, 0, 0, 1, 1, 0, 0, 1,\n",
      "        0, 1, 1, 1, 0, 1, 0, 1, 0, 0, 0, 1, 1, 1, 0, 0, 0, 1, 0, 1, 0, 0, 0, 0,\n",
      "        1, 1, 1, 0, 1, 1, 1, 1, 1, 1, 1, 1, 1, 1, 1, 1, 1, 1, 1, 0, 0, 0, 1, 1,\n",
      "        1, 1, 0, 1, 1, 0, 0, 1, 0, 1, 1, 0, 1, 1, 1, 0, 0, 0, 0, 1, 1, 1, 1, 1,\n",
      "        0, 1, 0, 1, 0, 0, 1, 1, 0, 1, 0, 0, 0, 1, 0, 1, 1, 1, 1, 1, 0, 0, 0, 0,\n",
      "        1, 1, 0, 0, 0, 0, 1, 1, 1, 1, 1, 1, 1, 1, 1, 0, 0, 0, 1, 0, 1, 1, 1, 1,\n",
      "        1, 1, 0, 0, 1, 1, 0, 1, 1, 1, 1, 0, 1, 0, 1, 0, 0, 1, 0, 0, 0, 0, 1, 0,\n",
      "        0, 0, 0, 0, 0, 0, 1, 1, 1, 1, 1, 0, 0, 1, 1, 0, 0, 1, 1, 0, 1, 1, 1, 0,\n",
      "        0, 1, 0, 0, 0, 0, 0, 1, 1, 0, 1, 0, 1, 0, 0, 1, 1, 0, 1, 1, 0, 0, 1, 1,\n",
      "        0, 1, 1, 0, 0, 1, 1, 1, 1, 0, 1, 0, 0, 0, 1, 1, 1, 1, 1, 0, 1, 1, 1, 1,\n",
      "        0, 1, 1, 1, 1, 1, 1, 1, 1, 1, 1, 0, 1, 1, 0, 1, 0, 0, 0, 0, 1, 1, 1, 1,\n",
      "        1, 0, 1, 1, 0, 1, 1, 0, 0, 0, 0, 0, 0, 1, 1, 1, 0, 1, 0, 0, 1, 1, 0, 0,\n",
      "        1, 0, 1, 1, 1, 1, 0, 0, 0, 0, 0, 0, 0, 0, 0, 1, 0, 1, 1, 1, 0, 1, 0, 1,\n",
      "        1, 0, 1, 0, 0, 0, 1, 1, 0, 0, 0, 0, 1, 0, 1, 1, 1, 0, 1, 0, 0, 0, 1, 1,\n",
      "        1, 0, 0, 1, 0, 0, 1, 1, 1, 1, 0, 1, 0, 1, 1, 1, 1, 0, 1, 0, 1, 0, 0, 1,\n",
      "        0, 1, 1, 0, 0, 0, 0, 0, 0, 1, 1, 0, 1, 1, 1, 0, 1, 0, 0, 1, 1, 1, 1, 1,\n",
      "        1, 1, 1, 1, 0, 0, 0, 0, 1, 1, 1, 0, 0, 0, 0, 0, 1, 1, 1, 0, 0, 1, 1, 1,\n",
      "        1, 1, 0, 0, 0, 0, 1, 0, 1, 0, 0, 0, 1, 1, 1, 0, 0, 1, 0, 0, 0, 1, 0, 0,\n",
      "        0, 0, 0, 1, 1, 1, 0, 1, 0, 0, 1, 0, 0, 0, 1, 0, 0, 1, 0, 0, 1, 1, 1, 1,\n",
      "        0, 0, 1, 0, 1, 0, 1, 1, 1, 1, 1, 0, 0, 0, 1, 1, 0, 0, 1, 1, 1, 1, 1, 1,\n",
      "        0, 1, 0, 0, 0, 1, 0, 1, 0, 0, 0, 1, 0, 0, 0, 0, 1, 1, 1, 0],\n",
      "       device='cuda:0') \n",
      "\n",
      "tensor([0, 1, 1, 0, 1, 1, 0, 0, 1, 1, 1, 0, 0, 0, 1, 1, 1, 0, 0, 1, 1, 0, 0, 1,\n",
      "        0, 1, 1, 1, 0, 1, 0, 1, 0, 0, 0, 1, 1, 1, 0, 1, 0, 1, 0, 1, 0, 0, 0, 1,\n",
      "        1, 1, 1, 0, 0, 1, 1, 1, 1, 0, 1, 1, 1, 1, 1, 1, 1, 1, 1, 0, 0, 0, 1, 1,\n",
      "        1, 1, 0, 1, 1, 0, 0, 1, 0, 1, 1, 0, 1, 1, 1, 0, 0, 0, 0, 1, 1, 1, 1, 1,\n",
      "        0, 1, 0, 1, 0, 0, 0, 1, 0, 1, 0, 0, 0, 1, 0, 1, 1, 1, 1, 1, 0, 0, 0, 1,\n",
      "        1, 1, 1, 0, 0, 0, 1, 1, 1, 1, 1, 1, 1, 1, 1, 0, 0, 0, 1, 0, 1, 1, 1, 1,\n",
      "        1, 1, 0, 1, 1, 1, 1, 1, 1, 1, 1, 0, 1, 0, 1, 0, 0, 0, 0, 0, 0, 0, 1, 0,\n",
      "        0, 0, 0, 0, 0, 0, 1, 1, 1, 1, 1, 0, 0, 1, 1, 0, 0, 1, 1, 0, 1, 1, 1, 0,\n",
      "        0, 1, 0, 0, 0, 0, 0, 1, 1, 0, 1, 0, 1, 0, 0, 1, 0, 0, 1, 1, 0, 0, 1, 1,\n",
      "        0, 1, 1, 0, 0, 1, 1, 1, 1, 0, 1, 0, 1, 0, 1, 1, 1, 1, 1, 0, 1, 1, 1, 1,\n",
      "        0, 1, 1, 1, 1, 1, 1, 1, 1, 1, 1, 0, 1, 1, 0, 1, 0, 0, 0, 0, 1, 1, 1, 1,\n",
      "        1, 0, 1, 1, 0, 0, 1, 0, 0, 0, 1, 0, 0, 1, 1, 1, 0, 1, 0, 0, 1, 1, 0, 0,\n",
      "        1, 0, 0, 1, 1, 1, 0, 0, 0, 0, 0, 0, 0, 0, 0, 1, 1, 1, 1, 1, 0, 1, 0, 1,\n",
      "        1, 0, 1, 0, 0, 0, 1, 1, 1, 0, 1, 0, 1, 0, 1, 1, 1, 0, 1, 0, 0, 1, 1, 1,\n",
      "        1, 0, 0, 1, 0, 0, 1, 1, 1, 1, 0, 1, 0, 1, 1, 1, 1, 0, 1, 0, 1, 0, 0, 1,\n",
      "        0, 1, 1, 1, 0, 1, 0, 0, 0, 1, 1, 1, 1, 1, 1, 0, 1, 0, 0, 1, 1, 1, 1, 1,\n",
      "        1, 1, 1, 1, 0, 0, 0, 0, 1, 1, 1, 1, 0, 0, 0, 0, 1, 1, 1, 0, 0, 1, 1, 1,\n",
      "        1, 1, 0, 0, 1, 0, 1, 0, 1, 0, 0, 0, 1, 1, 1, 0, 0, 1, 0, 0, 0, 1, 0, 0,\n",
      "        0, 0, 0, 1, 1, 1, 0, 1, 0, 0, 1, 0, 0, 0, 1, 0, 0, 1, 0, 0, 1, 1, 1, 1,\n",
      "        0, 1, 1, 0, 1, 0, 1, 1, 1, 1, 1, 0, 0, 0, 1, 1, 1, 0, 1, 1, 1, 1, 1, 1,\n",
      "        0, 1, 1, 0, 0, 1, 0, 1, 0, 0, 0, 1, 0, 0, 0, 0, 1, 1, 1, 0],\n",
      "       device='cuda:0') \n",
      "\n",
      "tensor([1, 1, 1, 1, 1, 0, 1, 1, 1, 1, 1, 1, 1, 1, 1, 1, 1, 1, 1, 1, 1, 1, 1, 1,\n",
      "        1, 1, 1, 1, 1, 1, 1, 1, 1, 1, 1, 1, 1, 1, 1, 0, 1, 1, 1, 1, 1, 1, 1, 0,\n",
      "        1, 1, 1, 1, 0, 1, 1, 1, 1, 0, 1, 1, 1, 1, 1, 1, 1, 1, 1, 1, 1, 1, 1, 1,\n",
      "        1, 1, 1, 1, 1, 1, 1, 1, 1, 1, 1, 1, 1, 1, 1, 1, 1, 1, 1, 1, 1, 1, 1, 1,\n",
      "        1, 1, 1, 1, 1, 1, 0, 1, 1, 1, 1, 1, 1, 1, 1, 1, 1, 1, 1, 1, 1, 1, 1, 0,\n",
      "        1, 1, 0, 1, 1, 1, 1, 1, 1, 1, 1, 1, 1, 1, 1, 1, 1, 1, 1, 1, 1, 1, 1, 1,\n",
      "        1, 1, 1, 0, 1, 1, 0, 1, 1, 1, 1, 1, 1, 1, 1, 1, 1, 0, 1, 1, 1, 1, 1, 1,\n",
      "        1, 1, 1, 1, 1, 1, 1, 1, 1, 1, 1, 1, 1, 1, 1, 1, 1, 1, 1, 1, 1, 1, 1, 1,\n",
      "        1, 1, 1, 1, 1, 1, 1, 1, 1, 1, 1, 1, 1, 1, 1, 1, 0, 1, 1, 1, 1, 1, 1, 1,\n",
      "        1, 1, 1, 1, 1, 1, 1, 1, 1, 1, 1, 1, 0, 1, 1, 1, 1, 1, 1, 1, 1, 1, 1, 1,\n",
      "        1, 1, 1, 1, 1, 1, 1, 1, 1, 1, 1, 1, 1, 1, 1, 1, 1, 1, 1, 1, 1, 1, 1, 1,\n",
      "        1, 1, 1, 1, 1, 0, 1, 1, 1, 1, 0, 1, 1, 1, 1, 1, 1, 1, 1, 1, 1, 1, 1, 1,\n",
      "        1, 1, 0, 1, 1, 1, 1, 1, 1, 1, 1, 1, 1, 1, 1, 1, 0, 1, 1, 1, 1, 1, 1, 1,\n",
      "        1, 1, 1, 1, 1, 1, 1, 1, 0, 1, 0, 1, 1, 1, 1, 1, 1, 1, 1, 1, 1, 0, 1, 1,\n",
      "        1, 1, 1, 1, 1, 1, 1, 1, 1, 1, 1, 1, 1, 1, 1, 1, 1, 1, 1, 1, 1, 1, 1, 1,\n",
      "        1, 1, 1, 0, 1, 0, 1, 1, 1, 1, 1, 0, 1, 1, 1, 1, 1, 1, 1, 1, 1, 1, 1, 1,\n",
      "        1, 1, 1, 1, 1, 1, 1, 1, 1, 1, 1, 0, 1, 1, 1, 1, 1, 1, 1, 1, 1, 1, 1, 1,\n",
      "        1, 1, 1, 1, 0, 1, 1, 1, 1, 1, 1, 1, 1, 1, 1, 1, 1, 1, 1, 1, 1, 1, 1, 1,\n",
      "        1, 1, 1, 1, 1, 1, 1, 1, 1, 1, 1, 1, 1, 1, 1, 1, 1, 1, 1, 1, 1, 1, 1, 1,\n",
      "        1, 0, 1, 1, 1, 1, 1, 1, 1, 1, 1, 1, 1, 1, 1, 1, 0, 1, 1, 1, 1, 1, 1, 1,\n",
      "        1, 1, 0, 1, 1, 1, 1, 1, 1, 1, 1, 1, 1, 1, 1, 1, 1, 1, 1, 1],\n",
      "       device='cuda:0', dtype=torch.uint8) \n",
      "\n",
      "tensor(472, device='cuda:0')\n"
     ]
    }
   ],
   "source": [
    "x_test , y_test = next(iter(test_dataset))\n",
    "#sentimentrnn.cpu()\n",
    "#sentimentrnn.to(device)\n",
    "sentimentrnn.eval()\n",
    "y_pred = sentimentrnn(x_test.to(device))\n",
    "y_pred\n",
    "print(y_pred.argmax(dim = 1),'\\n')\n",
    "\n",
    "y_test = y_test.to(device)\n",
    "print(y_test,'\\n')\n",
    "\n",
    "print(y_pred.argmax(dim = 1).eq(y_test),'\\n')\n",
    "print(y_pred.argmax(dim = 1).eq(y_test).sum())"
   ]
  },
  {
   "cell_type": "code",
   "execution_count": 128,
   "metadata": {},
   "outputs": [],
   "source": [
    "#creating training data\n",
    "#def create_input_data(sentence):\n",
    "#    sentence = sentence.lower().replace('[^\\w\\s]','').replace('.',' ').split()\n",
    "#    input_data = np.zeros((seq_len,batch_size,embedding_dim))\n",
    "#    k = 0\n",
    "#    #print(corpus)\n",
    "#    for i in sentence:\n",
    "#        if i == '<>':\n",
    "#            word_vector = np.zeros(embedding_dim)\n",
    "#        else:\n",
    "#            word_vector = word2vec.wv[i] \n",
    "#        input_data[k][0] = word_vector\n",
    "#        k+=1\n",
    "#        #print(i)\n",
    "#    return torch.tensor(input_data , dtype = torch.float64)\n",
    "\n",
    "#input_data = create_input_data('I love that they put their food in nice plastic containers as opposed to cramming it in little paper takeout boxes.')"
   ]
  },
  {
   "cell_type": "code",
   "execution_count": 101,
   "metadata": {},
   "outputs": [],
   "source": [
    "#batch = 0\n",
    "#for i in train_dataset :\n",
    "#    x, y = next(iter(train_dataset))\n",
    "#    print(batch)\n",
    "#    batch+=1\n",
    "#    print(x.shape,y.shape)"
   ]
  },
  {
   "cell_type": "code",
   "execution_count": 102,
   "metadata": {},
   "outputs": [],
   "source": [
    "#hidden = torch.zeros((num_layers,batch_size , hidden_size),dtype = torch.float64)\n",
    "#c_0 = torch.zeros((num_layers,batch_size, hidden_size),dtype = torch.float64)\n",
    "#sample_lstm1 = nn.LSTM(input_size = 128, hidden_size = 128 , num_layers = 5 , batch_first = True)\n",
    "#sample_lstm1.double()\n",
    "\n",
    "#print('hidden.shape :{}'.format(hidden.shape))\n",
    "#print('c_0.shape : {}'.format(c_0.shape))\n",
    "#print('x.shape : {}'.format(x.shape))\n",
    "#lstm_out , hidden_out = sample_lstm1(x , (hidden.cuda(),c_0.cuda()))\n",
    "#print('lstm_out.shape :{}'.format(lstm_out.shape))\n",
    "#print('hidden_out.shape :{}'.format(hidden_out.shape))\n",
    "#print(hidden_out[1].shape)\n"
   ]
  },
  {
   "cell_type": "code",
   "execution_count": 104,
   "metadata": {},
   "outputs": [],
   "source": [
    "#x, y = next(iter(train_dataset))\n",
    "#y_pred = sentimentrnn(x.to(device))\n",
    "#print(y_pred.shape)\n",
    "#print(y.shape)\n",
    "#loss = F.cross_entropy(y_pred ,y.to(device()))\n",
    "#print(loss)"
   ]
  },
  {
   "cell_type": "code",
   "execution_count": null,
   "metadata": {},
   "outputs": [],
   "source": []
  }
 ],
 "metadata": {
  "kernelspec": {
   "display_name": "Python 3",
   "language": "python",
   "name": "python3"
  },
  "language_info": {
   "codemirror_mode": {
    "name": "ipython",
    "version": 3
   },
   "file_extension": ".py",
   "mimetype": "text/x-python",
   "name": "python",
   "nbconvert_exporter": "python",
   "pygments_lexer": "ipython3",
   "version": "3.5.3"
  }
 },
 "nbformat": 4,
 "nbformat_minor": 2
}
